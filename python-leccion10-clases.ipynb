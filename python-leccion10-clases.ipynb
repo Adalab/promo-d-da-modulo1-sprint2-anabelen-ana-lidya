{
 "cells": [
  {
   "attachments": {},
   "cell_type": "markdown",
   "metadata": {},
   "source": [
    "# **Ejercicios de pair programming Módulo 1**\n",
    "## **Lección 10**\n",
    "### **Clases**\n",
    "\n",
    "---"
   ]
  },
  {
   "attachments": {},
   "cell_type": "markdown",
   "metadata": {},
   "source": [
    "\n",
    "1. En este ejercicio de pair programming crearemos una clase. Imaginemos que nuestro jefe nos pide que creemos una clase para tener más ordenada la información sobre cada uno de los empleados de la empresa. Para ello:\n",
    "Definid una clase que se llame Empleados\n"
   ]
  },
  {
   "cell_type": "code",
   "execution_count": 54,
   "metadata": {},
   "outputs": [],
   "source": [
    "class Empleados:\n",
    "    pass \n"
   ]
  },
  {
   "attachments": {},
   "cell_type": "markdown",
   "metadata": {},
   "source": [
    "2. Definid los siguientes atributos que caracterizan a nuestros empleados:\n",
    "- nombre\n",
    "- apellido\n",
    "- edad\n",
    "- posición que ocupa en la empresa\n",
    "- año en que entró en la empresa\n",
    "- número de días de vacaciones que tiene \n",
    "- Las herramientas que usa cada uno de ellos, por ejemplo, Outlook, excel y word. Deberá ser una lista.\n"
   ]
  },
  {
   "cell_type": "code",
   "execution_count": null,
   "metadata": {},
   "outputs": [],
   "source": []
  },
  {
   "cell_type": "code",
   "execution_count": 55,
   "metadata": {},
   "outputs": [],
   "source": [
    "class Empleados:\n",
    "    def __init__(self, nombre, apellido, edad, posicion, año, vacaciones, herramientas):\n",
    "        self.nombre = nombre\n",
    "        self.apellido = apellido \n",
    "        self.edad = edad\n",
    "        self.posicion = posicion\n",
    "        self.año = año\n",
    "        self.vacaciones = vacaciones\n",
    "        self.herramientas = herramientas\n"
   ]
  },
  {
   "attachments": {},
   "cell_type": "markdown",
   "metadata": {},
   "source": [
    "\n",
    "3. Cread una instancia para la clase creada\n"
   ]
  },
  {
   "cell_type": "code",
   "execution_count": 56,
   "metadata": {},
   "outputs": [],
   "source": [
    "ana = Empleados ('Ana', 'Perez', '22', 'CEO', 2022, 60, ['Python', 'sql','agile'])"
   ]
  },
  {
   "attachments": {},
   "cell_type": "markdown",
   "metadata": {},
   "source": [
    "4. Definid los siguientes métodos:\n",
    "- descripción\n",
    "- calculo_vacaciones\n",
    "- cambiando_posicion"
   ]
  },
  {
   "cell_type": "code",
   "execution_count": 57,
   "metadata": {},
   "outputs": [],
   "source": [
    "\n",
    "class Empleados:\n",
    "    def __init__(self, nombre, apellido, edad, posicion, año, vacaciones, herramientas):\n",
    "        self.nombre = nombre\n",
    "        self.apellido = apellido \n",
    "        self.edad = edad\n",
    "        self.posicion = posicion\n",
    "        self.año = año\n",
    "        self.vacaciones = vacaciones\n",
    "        self.herramientas = herramientas\n",
    "    \n",
    "    def descripcion(self):\n",
    "        \n",
    "        return f'Ella es {self.nombre} {self.apellido}, {self.posicion}, quien lleva con nosotros en la empresa desde {self.año}. Además, este año le quedan {self.vacaciones} días de vacaciones. '\n",
    "\n",
    "    def calculo_vacaciones(self):\n",
    "        vacaciones_deseadas = int(input('Cuántos días quieres irte de vacaciones?'))\n",
    "\n",
    "        if self.vacaciones == 0:\n",
    "            return 'Se te acabaron las vacaciones'\n",
    "        \n",
    "        elif vacaciones_deseadas > self.vacaciones: \n",
    "            return 'No tienes suficientes días de vacaciones para cumplir tus deseos'\n",
    "        \n",
    "        else:         \n",
    "            self.vacaciones -= vacaciones_deseadas\n",
    "            return self.vacaciones\n",
    "        \n",
    "    def cambiando_posicion (self):\n",
    "        for i in self.herramientas:\n",
    "            if 'Python' in i:\n",
    "                return 'Bien hecho! Nos encanta Python! <3'\n",
    "            \n",
    "            elif 'Excel' in i:\n",
    "                return '¿Te has planteado actualizar tus skills de Excel y pasarte a Python?'\n",
    "            \n",
    "    \n",
    "\n",
    "           \n"
   ]
  },
  {
   "cell_type": "code",
   "execution_count": 58,
   "metadata": {},
   "outputs": [],
   "source": [
    "ana = Empleados ('Ana', 'Perez', '22', 'CEO', 2022, 60, ['Python', 'sql','agile'])"
   ]
  },
  {
   "cell_type": "code",
   "execution_count": 59,
   "metadata": {},
   "outputs": [
    {
     "data": {
      "text/plain": [
       "'Ella es Ana Perez, CEO, quien lleva con nosotros en la empresa desde 2022. Además, este año le quedan 60 días de vacaciones. '"
      ]
     },
     "execution_count": 59,
     "metadata": {},
     "output_type": "execute_result"
    }
   ],
   "source": [
    "\n",
    "ana.descripcion()\n"
   ]
  },
  {
   "cell_type": "code",
   "execution_count": 60,
   "metadata": {},
   "outputs": [
    {
     "data": {
      "text/plain": [
       "59"
      ]
     },
     "execution_count": 60,
     "metadata": {},
     "output_type": "execute_result"
    }
   ],
   "source": [
    "ana.calculo_vacaciones()"
   ]
  },
  {
   "cell_type": "code",
   "execution_count": 61,
   "metadata": {},
   "outputs": [
    {
     "data": {
      "text/plain": [
       "'Bien hecho! Nos encanta Python! <3'"
      ]
     },
     "execution_count": 61,
     "metadata": {},
     "output_type": "execute_result"
    }
   ],
   "source": [
    "\n",
    "ana.cambiando_posicion()"
   ]
  }
 ],
 "metadata": {
  "kernelspec": {
   "display_name": "Python 3",
   "language": "python",
   "name": "python3"
  },
  "language_info": {
   "codemirror_mode": {
    "name": "ipython",
    "version": 3
   },
   "file_extension": ".py",
   "mimetype": "text/x-python",
   "name": "python",
   "nbconvert_exporter": "python",
   "pygments_lexer": "ipython3",
   "version": "3.9.6"
  },
  "orig_nbformat": 4,
  "vscode": {
   "interpreter": {
    "hash": "31f2aee4e71d21fbe5cf8b01ff0e069b9275f58929596ceb00d14d90e3e16cd6"
   }
  }
 },
 "nbformat": 4,
 "nbformat_minor": 2
}
