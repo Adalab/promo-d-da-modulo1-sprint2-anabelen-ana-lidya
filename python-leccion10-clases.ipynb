{
 "cells": [
  {
   "attachments": {},
   "cell_type": "markdown",
   "metadata": {},
   "source": [
    "# Pair programming\n",
    "1. En este ejercicio de pair programming crearemos una clase. Imaginemos que nuestro jefe nos pide que creemos una clase para tener más ordenada la información sobre cada uno de los empleados de la empresa. Para ello:\n",
    "Definid una clase que se llame Empleados\n"
   ]
  },
  {
   "cell_type": "code",
   "execution_count": null,
   "metadata": {},
   "outputs": [],
   "source": []
  },
  {
   "attachments": {},
   "cell_type": "markdown",
   "metadata": {},
   "source": [
    "2. Definid los siguientes atributos que caracterizan a nuestros empleados:\n",
    "- nombre\n",
    "- apellido\n",
    "- edad\n",
    "- posición que ocupa en la empresa\n",
    "- año en que entró en la empresa\n",
    "- número de días de vacaciones que tiene \n",
    "- Las herramientas que usa cada uno de ellos, por ejemplo, Outlook, excel y word. Deberá ser una lista.\n"
   ]
  },
  {
   "cell_type": "code",
   "execution_count": null,
   "metadata": {},
   "outputs": [],
   "source": []
  },
  {
   "attachments": {},
   "cell_type": "markdown",
   "metadata": {},
   "source": [
    "\n",
    "3. Cread una instancia para la clase creada\n"
   ]
  },
  {
   "cell_type": "code",
   "execution_count": null,
   "metadata": {},
   "outputs": [],
   "source": []
  },
  {
   "attachments": {},
   "cell_type": "markdown",
   "metadata": {},
   "source": [
    "4. Definid los siguientes métodos:\n",
    "- descripción\n",
    "- calculo_vacaciones\n",
    "- cambiando_posicion"
   ]
  },
  {
   "cell_type": "code",
   "execution_count": null,
   "metadata": {},
   "outputs": [],
   "source": []
  },
  {
   "cell_type": "markdown",
   "metadata": {},
   "source": []
  }
 ],
 "metadata": {
  "kernelspec": {
   "display_name": "adalabenv",
   "language": "python",
   "name": "python3"
  },
  "language_info": {
   "codemirror_mode": {
    "name": "ipython",
    "version": 3
   },
   "file_extension": ".py",
   "mimetype": "text/x-python",
   "name": "python",
   "nbconvert_exporter": "python",
   "pygments_lexer": "ipython3",
   "version": "3.10.9"
  },
  "orig_nbformat": 4
 },
 "nbformat": 4,
 "nbformat_minor": 2
}
