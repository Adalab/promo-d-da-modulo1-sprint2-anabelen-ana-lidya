{
 "cells": [
  {
   "attachments": {},
   "cell_type": "markdown",
   "metadata": {},
   "source": [
    "# **Ejercicios de pair programming Módulo 1**\n",
    "## **Lección 9**\n",
    "### **Funciones: Argumentos**\n",
    "\n",
    "---"
   ]
  },
  {
   "attachments": {},
   "cell_type": "markdown",
   "metadata": {},
   "source": [
    " - 1. Vamos a crear una \"Calculadora de puntos\". Tenéis que escribir una calculadora que reciba cadenas de caracteres como entrada. Los puntos representarán el número de la ecuación. Habrá puntos en un lado, un operador, y puntos de nuevo después del oparador. Los puntos y el operador estarán separados por un espacio.\n",
    "\n",
    "    Aquí os dejamos los operadores válidos:\n",
    "     - Suma\n",
    "     - Resta\n",
    "     - Multiplicación\n",
    "     - División entera\n",
    "    \n",
    "    Vuestro trabajo:\n",
    "\n",
    "    Tendréis que devolver un string que contenga puntos, tantos como devuelva la ecuación. Si el resultado es 0, devuelve la cadena vacía. Cuando se trata de una resta, el primer número siempre será mayor o igual que el segundo.\n",
    "\n",
    "      Probad la función con los siguientes casos: \n",
    "\n",
    "     ```python\n",
    "        \"..... + ...............\" => \"....................\"\n",
    "        \"..... - ...\" => \"..\"\n",
    "        \"..... * ...\" => \"...............\"\n",
    "        \"..... // ..\" => \"..\"\n",
    "        \". // ..\" => \"\"\n",
    "        \".. - ..\" => \"\" \n"
   ]
  },
  {
   "cell_type": "code",
   "execution_count": 15,
   "metadata": {},
   "outputs": [],
   "source": [
    "def calculadora (string_puntos1, string_puntos2, operador):\n",
    "\n",
    "    numero1 = string_puntos1.count(\".\")\n",
    "    numero2 = string_puntos2.count(\".\")\n",
    "\n",
    "    if operador == \"suma\":\n",
    "        resultado_numero = numero1 + numero2\n",
    "        string_resultado = \".\" * resultado_numero\n",
    "        if string_resultado == 0: \n",
    "            return '\"\"'\n",
    "        return string_resultado\n",
    "    \n",
    "    elif operador == \"resta\":\n",
    "        \n",
    "        if numero1 >= numero2:\n",
    "            resultado_numero = numero1 - numero2\n",
    "            string_resultado = \".\" * resultado_numero\n",
    "            if string_resultado == 0: \n",
    "                return '\"\"'\n",
    "            return string_resultado\n",
    "        else:\n",
    "            resultado_numero = numero2 - numero1\n",
    "            string_resultado = \".\" * resultado_numero\n",
    "            if string_resultado == 0: \n",
    "                return '\"\"'\n",
    "            return string_resultado\n",
    "    \n",
    "    elif operador == \"multiplicacion\":\n",
    "        resultado_numero = numero1 * numero2\n",
    "        string_resultado = \".\" * resultado_numero\n",
    "        if string_resultado == 0: \n",
    "            return '\"\"'\n",
    "        return string_resultado\n",
    "    \n",
    "    elif operador == \"division entera\":\n",
    "        resultado_numero = numero1 // numero2\n",
    "        string_resultado = \".\" * resultado_numero\n",
    "        if string_resultado == 0: \n",
    "            return '\"\"'\n",
    "        return string_resultado\n",
    "    "
   ]
  },
  {
   "cell_type": "code",
   "execution_count": 2,
   "metadata": {},
   "outputs": [
    {
     "data": {
      "text/plain": [
       "'....................'"
      ]
     },
     "execution_count": 2,
     "metadata": {},
     "output_type": "execute_result"
    }
   ],
   "source": [
    "calculadora(\".....\", \"...............\", \"suma\")"
   ]
  },
  {
   "cell_type": "code",
   "execution_count": 6,
   "metadata": {},
   "outputs": [
    {
     "data": {
      "text/plain": [
       "'..'"
      ]
     },
     "execution_count": 6,
     "metadata": {},
     "output_type": "execute_result"
    }
   ],
   "source": [
    "calculadora(\".....\", \"...\", \"resta\")"
   ]
  },
  {
   "cell_type": "code",
   "execution_count": 7,
   "metadata": {},
   "outputs": [
    {
     "data": {
      "text/plain": [
       "'...............'"
      ]
     },
     "execution_count": 7,
     "metadata": {},
     "output_type": "execute_result"
    }
   ],
   "source": [
    "calculadora(\".....\",\"...\", \"multiplicacion\")"
   ]
  },
  {
   "cell_type": "code",
   "execution_count": 8,
   "metadata": {},
   "outputs": [
    {
     "data": {
      "text/plain": [
       "'..'"
      ]
     },
     "execution_count": 8,
     "metadata": {},
     "output_type": "execute_result"
    }
   ],
   "source": [
    "calculadora(\".....\",\"..\", \"division entera\")"
   ]
  },
  {
   "cell_type": "code",
   "execution_count": 18,
   "metadata": {},
   "outputs": [
    {
     "data": {
      "text/plain": [
       "''"
      ]
     },
     "execution_count": 18,
     "metadata": {},
     "output_type": "execute_result"
    }
   ],
   "source": [
    "calculadora(\".\", \"..\", \"division entera\")"
   ]
  },
  {
   "cell_type": "code",
   "execution_count": 17,
   "metadata": {},
   "outputs": [
    {
     "data": {
      "text/plain": [
       "''"
      ]
     },
     "execution_count": 17,
     "metadata": {},
     "output_type": "execute_result"
    }
   ],
   "source": [
    "calculadora(\"..\", \"..\", \"resta\")"
   ]
  },
  {
   "attachments": {},
   "cell_type": "markdown",
   "metadata": {},
   "source": [
    " - 2. Te despides de tu mejor amigo, \"Nos vemos el próximo año\".\n",
    "\n",
    "    Vuestro trabajo: Dado un año, encuentra el próximo cumpleaños o el año más cercano en el que verás a tu mejor amigo.\n",
    "        \n",
    "    Condiciones: \n",
    "\n",
    "      - Año siempre positivo.\n",
    "      - El siguiente año que le felicites a tu mejor amigo no puede tener ningún dígito repetido.\n",
    "        \n",
    "        \n",
    "      Probad la función con los siguientes casos:\n",
    "\n",
    "     ```python\n",
    "         7712 ==> El siguiente año que felicitarás a tu amigo será el 7801. \n",
    "         Por que es el siguiente año en el que no hay ninguún dígito repetido. \n",
    "         1001 => 1023 \n",
    "         1123 => 1203\n",
    "         2001 => 2013"
   ]
  },
  {
   "cell_type": "code",
   "execution_count": 1,
   "metadata": {},
   "outputs": [],
   "source": [
    "def cumpleaños(año):\n",
    "\n",
    "    while len(set(list(str(año)))) < 4:\n",
    "        año +=1\n",
    "    \n",
    "    return año\n"
   ]
  },
  {
   "cell_type": "code",
   "execution_count": 2,
   "metadata": {},
   "outputs": [
    {
     "data": {
      "text/plain": [
       "1023"
      ]
     },
     "execution_count": 2,
     "metadata": {},
     "output_type": "execute_result"
    }
   ],
   "source": [
    "cumpleaños(1001)"
   ]
  },
  {
   "cell_type": "code",
   "execution_count": 3,
   "metadata": {},
   "outputs": [
    {
     "data": {
      "text/plain": [
       "1203"
      ]
     },
     "execution_count": 3,
     "metadata": {},
     "output_type": "execute_result"
    }
   ],
   "source": [
    "cumpleaños(1123)"
   ]
  },
  {
   "cell_type": "code",
   "execution_count": 4,
   "metadata": {},
   "outputs": [
    {
     "data": {
      "text/plain": [
       "2013"
      ]
     },
     "execution_count": 4,
     "metadata": {},
     "output_type": "execute_result"
    }
   ],
   "source": [
    "cumpleaños(2001)"
   ]
  },
  {
   "attachments": {},
   "cell_type": "markdown",
   "metadata": {},
   "source": [
    " - 3. Tenéis que crear un función que chequee la vida de un evaporador que contiene un gas.\n",
    "    Conocemos el contenido del evaporador (contenido en ml), el porcentaje de gas que se pierde cada día y el umbral en porcentaje a partir del cual el evaporador deja de ser útil. Todos los números serán estrictamente positivos.\n",
    "    \n",
    "    ⚠️ Nota: el contenido no es, de hecho, necesario en el cuerpo de la función, podéis utilizarlo o no.\n",
    "        \n",
    "    Probad con los siguientes casos: \n",
    "```python\n",
    "\n",
    "         10, 10, 5 => 29\n",
    "         10, 10, 10 = > 22"
   ]
  },
  {
   "cell_type": "code",
   "execution_count": 34,
   "metadata": {},
   "outputs": [],
   "source": [
    "def vida_util(contenido, evaporacion, minimo):\n",
    "\n",
    "    contador = 0\n",
    "    cantidad_minima = (contenido*minimo/100)\n",
    "\n",
    "    while contenido > cantidad_minima:\n",
    "        contenido -= (contenido*evaporacion/100)\n",
    "        contador +=1\n",
    "        print(contenido)\n",
    "\n",
    "    return contador\n"
   ]
  },
  {
   "cell_type": "code",
   "execution_count": 37,
   "metadata": {},
   "outputs": [
    {
     "name": "stdout",
     "output_type": "stream",
     "text": [
      "9.0\n",
      "8.1\n",
      "7.289999999999999\n",
      "6.560999999999999\n",
      "5.9049\n",
      "5.31441\n",
      "4.782969\n",
      "4.3046720999999994\n",
      "3.8742048899999997\n",
      "3.4867844009999995\n",
      "3.1381059608999995\n",
      "2.8242953648099993\n",
      "2.5418658283289997\n",
      "2.2876792454960997\n",
      "2.0589113209464895\n",
      "1.8530201888518407\n",
      "1.6677181699666566\n",
      "1.500946352969991\n",
      "1.3508517176729917\n",
      "1.2157665459056926\n",
      "1.0941898913151233\n",
      "0.9847709021836111\n",
      "0.8862938119652499\n",
      "0.797664430768725\n",
      "0.7178979876918524\n",
      "0.6461081889226672\n",
      "0.5814973700304005\n",
      "0.5233476330273604\n",
      "0.47101286972462436\n"
     ]
    },
    {
     "data": {
      "text/plain": [
       "29"
      ]
     },
     "execution_count": 37,
     "metadata": {},
     "output_type": "execute_result"
    }
   ],
   "source": [
    "vida_util(10,10,5)"
   ]
  },
  {
   "cell_type": "code",
   "execution_count": 38,
   "metadata": {},
   "outputs": [
    {
     "name": "stdout",
     "output_type": "stream",
     "text": [
      "9.0\n",
      "8.1\n",
      "7.289999999999999\n",
      "6.560999999999999\n",
      "5.9049\n",
      "5.31441\n",
      "4.782969\n",
      "4.3046720999999994\n",
      "3.8742048899999997\n",
      "3.4867844009999995\n",
      "3.1381059608999995\n",
      "2.8242953648099993\n",
      "2.5418658283289997\n",
      "2.2876792454960997\n",
      "2.0589113209464895\n",
      "1.8530201888518407\n",
      "1.6677181699666566\n",
      "1.500946352969991\n",
      "1.3508517176729917\n",
      "1.2157665459056926\n",
      "1.0941898913151233\n",
      "0.9847709021836111\n"
     ]
    },
    {
     "data": {
      "text/plain": [
       "22"
      ]
     },
     "execution_count": 38,
     "metadata": {},
     "output_type": "execute_result"
    }
   ],
   "source": [
    "vida_util(10,10,10)"
   ]
  },
  {
   "attachments": {},
   "cell_type": "markdown",
   "metadata": {},
   "source": [
    " - 4. Definid una función que tome como argumento un entero y devuelva True o False dependiendo de si el número es primo o no.\n",
    "    Según la Wikipedia, un número primo es un número natural mayor que 1 que no tiene divisores positivos más que 1 y él mismo.\n",
    "\n",
    "    Probad la función con los siguientes números: \n",
    "\n",
    "```python\n",
    "        0 => False\n",
    "        2 => True\n",
    "        73 => True\n",
    "        -1 => False\n",
    "        5099 => True"
   ]
  },
  {
   "cell_type": "code",
   "execution_count": 39,
   "metadata": {},
   "outputs": [],
   "source": [
    "def primos(numero):\n",
    "\n",
    "    if numero <= 1:\n",
    "        return False\n",
    "    \n",
    "    for i in range(2, numero):\n",
    "\n",
    "        if (numero%i) == 0:\n",
    "\n",
    "            return False\n",
    "        \n",
    "    return True"
   ]
  },
  {
   "cell_type": "code",
   "execution_count": 40,
   "metadata": {},
   "outputs": [
    {
     "data": {
      "text/plain": [
       "False"
      ]
     },
     "execution_count": 40,
     "metadata": {},
     "output_type": "execute_result"
    }
   ],
   "source": [
    "primos(0)"
   ]
  },
  {
   "cell_type": "code",
   "execution_count": 41,
   "metadata": {},
   "outputs": [
    {
     "data": {
      "text/plain": [
       "True"
      ]
     },
     "execution_count": 41,
     "metadata": {},
     "output_type": "execute_result"
    }
   ],
   "source": [
    "primos(2)"
   ]
  },
  {
   "cell_type": "code",
   "execution_count": 42,
   "metadata": {},
   "outputs": [
    {
     "data": {
      "text/plain": [
       "True"
      ]
     },
     "execution_count": 42,
     "metadata": {},
     "output_type": "execute_result"
    }
   ],
   "source": [
    "primos(73)"
   ]
  },
  {
   "cell_type": "code",
   "execution_count": 43,
   "metadata": {},
   "outputs": [
    {
     "data": {
      "text/plain": [
       "False"
      ]
     },
     "execution_count": 43,
     "metadata": {},
     "output_type": "execute_result"
    }
   ],
   "source": [
    "primos(-1)"
   ]
  },
  {
   "cell_type": "code",
   "execution_count": 44,
   "metadata": {},
   "outputs": [
    {
     "data": {
      "text/plain": [
       "True"
      ]
     },
     "execution_count": 44,
     "metadata": {},
     "output_type": "execute_result"
    }
   ],
   "source": [
    "primos(5099)"
   ]
  },
  {
   "attachments": {},
   "cell_type": "markdown",
   "metadata": {},
   "source": [
    " - 5. Probablemente conozcais el sistema de \"me gusta\" de Facebook y otras páginas. La gente puede dar \"me gusta\" a las publicaciones del blog, a las imágenes o a otros elementos. Queremos crear el texto que debe mostrarse junto a dicho elemento.\n",
    "    Cread una función que toma una lista que contiene los nombres de las personas a las que les gusta un artículo. Debe devolver el texto que se muestra en los ejemplos:\n",
    "\n",
    "    Probad los siguientes ejemplos: \n",
    "```python\n",
    "        []                              -->  \"A nadie le gusta esto\"\n",
    "        [\"Paola\"]                       -->  \"A Paola le gusta esto\"\n",
    "        [\"Jacoba\", \"Alex\"]               -->  \"A Jacoba y Alex les gusta esto\"\n",
    "        [\"Maria\", \"Juana\", \"Lola\"]         -->  \"A Maria, Juana y Lola les gusta esto\"\n",
    "        [\"Alex\", \"Jacoba\", \"Lola\", \"Carmen\"]-->  \"A Alex, Jacob ay 2 más les gusta esto\"\n",
    "        [\"Alex\", \"Jacoba\", \"Lola\", \"Carmen\", \"Mariana\"]-->  \"A Alex, Jacoba y 3 más les gusta esto\"\n",
    "    \n",
    "        Nota: Para 4 o más nombres, el número en \"y otros 2\" simplemente aumenta."
   ]
  },
  {
   "cell_type": "code",
   "execution_count": 19,
   "metadata": {},
   "outputs": [],
   "source": [
    "def megusta(lista_nombres):\n",
    "\n",
    "    if len(lista_nombres) == 0:\n",
    "        \n",
    "        return \"A nadie le gusta esto\"\n",
    "    \n",
    "    elif len(lista_nombres) == 1:\n",
    "\n",
    "        return f\"A {lista_nombres[0]} le gusta esto\"\n",
    "    \n",
    "    elif len(lista_nombres) == 2:\n",
    "\n",
    "        return f\"A {lista_nombres[0]} y {lista_nombres[1]} les gusta esto\"\n",
    "    \n",
    "    elif len(lista_nombres) == 3:\n",
    "\n",
    "        return f\"A {lista_nombres[0]}, {lista_nombres[1]} y {lista_nombres[2]} les gusta esto\"\n",
    "    \n",
    "    else:\n",
    "\n",
    "        return f\"A {lista_nombres[0]}, {lista_nombres[1]} y a {(len(lista_nombres) - 2)} más les gusta esto\"\n"
   ]
  },
  {
   "cell_type": "code",
   "execution_count": 11,
   "metadata": {},
   "outputs": [
    {
     "data": {
      "text/plain": [
       "'A nadie le gusta esto'"
      ]
     },
     "execution_count": 11,
     "metadata": {},
     "output_type": "execute_result"
    }
   ],
   "source": [
    "megusta([])"
   ]
  },
  {
   "cell_type": "code",
   "execution_count": 14,
   "metadata": {},
   "outputs": [
    {
     "data": {
      "text/plain": [
       "'A Paola le gusta esto'"
      ]
     },
     "execution_count": 14,
     "metadata": {},
     "output_type": "execute_result"
    }
   ],
   "source": [
    "megusta([\"Paola\"])"
   ]
  },
  {
   "cell_type": "code",
   "execution_count": 13,
   "metadata": {},
   "outputs": [
    {
     "data": {
      "text/plain": [
       "'A Jacoba y Alex les gusta esto'"
      ]
     },
     "execution_count": 13,
     "metadata": {},
     "output_type": "execute_result"
    }
   ],
   "source": [
    "megusta([\"Jacoba\", \"Alex\"])"
   ]
  },
  {
   "cell_type": "code",
   "execution_count": 15,
   "metadata": {},
   "outputs": [
    {
     "data": {
      "text/plain": [
       "'A Maria, Juana y Lola les gusta esto'"
      ]
     },
     "execution_count": 15,
     "metadata": {},
     "output_type": "execute_result"
    }
   ],
   "source": [
    "megusta([\"Maria\", \"Juana\", \"Lola\"])"
   ]
  },
  {
   "cell_type": "code",
   "execution_count": 20,
   "metadata": {},
   "outputs": [
    {
     "data": {
      "text/plain": [
       "'A Alex, Jacoba y a 2 más les gusta esto'"
      ]
     },
     "execution_count": 20,
     "metadata": {},
     "output_type": "execute_result"
    }
   ],
   "source": [
    "megusta([\"Alex\", \"Jacoba\", \"Lola\", \"Carmen\"])"
   ]
  },
  {
   "cell_type": "code",
   "execution_count": 21,
   "metadata": {},
   "outputs": [
    {
     "data": {
      "text/plain": [
       "'A Alex, Jacoba y a 3 más les gusta esto'"
      ]
     },
     "execution_count": 21,
     "metadata": {},
     "output_type": "execute_result"
    }
   ],
   "source": [
    "megusta([\"Alex\", \"Jacoba\", \"Lola\", \"Carmen\", \"Mariana\"])"
   ]
  },
  {
   "cell_type": "code",
   "execution_count": null,
   "metadata": {},
   "outputs": [],
   "source": []
  }
 ],
 "metadata": {
  "kernelspec": {
   "display_name": "adalabenv",
   "language": "python",
   "name": "python3"
  },
  "language_info": {
   "codemirror_mode": {
    "name": "ipython",
    "version": 3
   },
   "file_extension": ".py",
   "mimetype": "text/x-python",
   "name": "python",
   "nbconvert_exporter": "python",
   "pygments_lexer": "ipython3",
   "version": "3.10.9"
  },
  "orig_nbformat": 4
 },
 "nbformat": 4,
 "nbformat_minor": 2
}
