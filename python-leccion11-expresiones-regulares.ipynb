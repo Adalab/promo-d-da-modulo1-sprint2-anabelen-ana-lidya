{
 "cells": [
  {
   "attachments": {},
   "cell_type": "markdown",
   "metadata": {},
   "source": [
    "# **Ejercicios de pair programming Módulo 1**\n",
    "## **Lección 11**\n",
    "### **Expresiones regulares**\n",
    "\n",
    "---"
   ]
  },
  {
   "attachments": {},
   "cell_type": "markdown",
   "metadata": {},
   "source": [
    "Antes de empezar:\n",
    "\n",
    "📌 Cargad el fichero del email que tenemos al final de la explicación del pair de hoy y almacenarlo en una variable. Para abrirlo tendremos que usar el método open aprendido en lecciones anteriores. \n",
    "\n",
    "📌 Importad las librerías necesarias para poder usar las expresiones regulares"
   ]
  },
  {
   "cell_type": "code",
   "execution_count": null,
   "metadata": {},
   "outputs": [],
   "source": [
    "with open('email.txt','r') as file:\n",
    "    email = file"
   ]
  },
  {
   "cell_type": "code",
   "execution_count": null,
   "metadata": {},
   "outputs": [],
   "source": [
    "import re"
   ]
  },
  {
   "attachments": {},
   "cell_type": "markdown",
   "metadata": {},
   "source": [
    " - 1. Extraer el email de la persona que envió el email (os deberían salir 2). 💡 Pista 💡 Tendremos que hacer dos busquedas:\n",
    "    \n",
    "    \n",
    "     - Una para extraer toda la información del remitente. El remitente siempre empieza por From:\n",
    "    \n",
    "    ```python\n",
    "        info_remitente = re.findall('From:.*',email)\n",
    "    ``` \n",
    "\n",
    "     - Otra para extraer el email únicamente.\n"
   ]
  },
  {
   "cell_type": "code",
   "execution_count": null,
   "metadata": {},
   "outputs": [],
   "source": []
  },
  {
   "attachments": {},
   "cell_type": "markdown",
   "metadata": {},
   "source": [
    " - 2. Extraer el nombre de la persona que envió el email (os deberían salir 2). 💡 Pista 💡 Tendremos que hacer dos busquedas:\n",
    "\n",
    "     - Podemos usar el resultado de la primera búsqueda del ejercicio anterior para sacar el nombre.\n",
    "\n",
    "     - Otra para extraer el nombre únicamente.\n"
   ]
  },
  {
   "cell_type": "code",
   "execution_count": null,
   "metadata": {},
   "outputs": [],
   "source": []
  },
  {
   "attachments": {},
   "cell_type": "markdown",
   "metadata": {},
   "source": [
    "     \n",
    " - 3. El día en el que se mandó el email (os deberían salir 2).\n",
    "💡 Pista 💡 De la misma forma que antes buscamos por From: primero, ahora lo tendremos que hacer con Date: .*\n"
   ]
  },
  {
   "cell_type": "code",
   "execution_count": null,
   "metadata": {},
   "outputs": [],
   "source": []
  },
  {
   "attachments": {},
   "cell_type": "markdown",
   "metadata": {},
   "source": [
    " - 4. El asunto del email (os deberían salir 2).\n",
    "💡 Pista 💡 Busca primero \"Subject:.* y después busca el patrón para extraer el asunto.\n"
   ]
  },
  {
   "cell_type": "code",
   "execution_count": null,
   "metadata": {},
   "outputs": [],
   "source": []
  },
  {
   "attachments": {},
   "cell_type": "markdown",
   "metadata": {},
   "source": [
    " - 5. Guarda todos los resultados en un diccionario."
   ]
  },
  {
   "cell_type": "code",
   "execution_count": null,
   "metadata": {},
   "outputs": [],
   "source": []
  },
  {
   "attachments": {},
   "cell_type": "markdown",
   "metadata": {},
   "source": [
    "💪🏽 BONUS 💪🏽\n",
    "Utiliza funciones para cada una de los objetivos planteados."
   ]
  }
 ],
 "metadata": {
  "kernelspec": {
   "display_name": "adalabenv",
   "language": "python",
   "name": "python3"
  },
  "language_info": {
   "name": "python",
   "version": "3.10.9"
  },
  "orig_nbformat": 4
 },
 "nbformat": 4,
 "nbformat_minor": 2
}
