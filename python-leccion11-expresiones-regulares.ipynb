{
 "cells": [
  {
   "attachments": {},
   "cell_type": "markdown",
   "metadata": {},
   "source": [
    "# **Ejercicios de pair programming Módulo 1**\n",
    "## **Lección 11**\n",
    "### **Expresiones regulares**\n",
    "\n",
    "---"
   ]
  },
  {
   "attachments": {},
   "cell_type": "markdown",
   "metadata": {},
   "source": [
    "Antes de empezar:\n",
    "\n",
    "📌 Cargad el fichero del email que tenemos al final de la explicación del pair de hoy y almacenarlo en una variable. Para abrirlo tendremos que usar el método open aprendido en lecciones anteriores. \n",
    "\n",
    "📌 Importad las librerías necesarias para poder usar las expresiones regulares"
   ]
  },
  {
   "cell_type": "code",
   "execution_count": 2,
   "metadata": {},
   "outputs": [],
   "source": [
    "email = open(\"email.txt\", \"r\").read()"
   ]
  },
  {
   "cell_type": "code",
   "execution_count": 3,
   "metadata": {},
   "outputs": [],
   "source": [
    "import re"
   ]
  },
  {
   "attachments": {},
   "cell_type": "markdown",
   "metadata": {},
   "source": [
    " - 1. Extraer el email de la persona que envió el email (os deberían salir 2). 💡 Pista 💡 Tendremos que hacer dos busquedas:\n",
    "    \n",
    "    \n",
    "     - Una para extraer toda la información del remitente. El remitente siempre empieza por From:\n",
    "    \n",
    "    ```python\n",
    "        info_remitente = re.findall('From:.*',email)\n",
    "    ``` \n",
    "\n",
    "     - Otra para extraer el email únicamente.\n"
   ]
  },
  {
   "cell_type": "code",
   "execution_count": 4,
   "metadata": {},
   "outputs": [],
   "source": [
    "info_remitente = re.findall(\"From: .*\", email)"
   ]
  },
  {
   "cell_type": "code",
   "execution_count": 5,
   "metadata": {},
   "outputs": [
    {
     "data": {
      "text/plain": [
       "['From: \"Mr. Ben Suleman\" <bensul2004nng@spinfinder.com>',\n",
       " 'From: \"MR. JAMES NGOLA.\" <james_ngola2002@maktoob.com>']"
      ]
     },
     "execution_count": 5,
     "metadata": {},
     "output_type": "execute_result"
    }
   ],
   "source": [
    "info_remitente"
   ]
  },
  {
   "cell_type": "code",
   "execution_count": 24,
   "metadata": {},
   "outputs": [],
   "source": [
    "direcciones_email = []\n",
    "\n",
    "for remitente in info_remitente:\n",
    "\n",
    "    direcciones_email.append(re.findall(\"\\w+@\\w+\\.com\", remitente))"
   ]
  },
  {
   "cell_type": "code",
   "execution_count": 25,
   "metadata": {},
   "outputs": [
    {
     "data": {
      "text/plain": [
       "[['bensul2004nng@spinfinder.com'], ['james_ngola2002@maktoob.com']]"
      ]
     },
     "execution_count": 25,
     "metadata": {},
     "output_type": "execute_result"
    }
   ],
   "source": [
    "direcciones_email"
   ]
  },
  {
   "attachments": {},
   "cell_type": "markdown",
   "metadata": {},
   "source": [
    " - 2. Extraer el nombre de la persona que envió el email (os deberían salir 2). 💡 Pista 💡 Tendremos que hacer dos busquedas:\n",
    "\n",
    "     - Podemos usar el resultado de la primera búsqueda del ejercicio anterior para sacar el nombre.\n",
    "\n",
    "     - Otra para extraer el nombre únicamente.\n"
   ]
  },
  {
   "cell_type": "code",
   "execution_count": 33,
   "metadata": {},
   "outputs": [],
   "source": [
    "nombre_completo = []\n",
    "\n",
    "for remitente in info_remitente:\n",
    "\n",
    "    nombre_completo.append(re.findall(\"\\w+\\.\\s\\w+\\s\\w+\", remitente)) #Cogemos str, punto, espacio, str, espacio, str"
   ]
  },
  {
   "cell_type": "code",
   "execution_count": 34,
   "metadata": {},
   "outputs": [
    {
     "data": {
      "text/plain": [
       "[['Mr. Ben Suleman'], ['MR. JAMES NGOLA']]"
      ]
     },
     "execution_count": 34,
     "metadata": {},
     "output_type": "execute_result"
    }
   ],
   "source": [
    "nombre_completo"
   ]
  },
  {
   "cell_type": "code",
   "execution_count": 38,
   "metadata": {},
   "outputs": [],
   "source": [
    "nombre_de_pila = []\n",
    "\n",
    "for nombre in info_remitente:\n",
    "\n",
    "    nombre_de_pila.append(re.findall(\"\\s\\w+\\s\", nombre))"
   ]
  },
  {
   "cell_type": "code",
   "execution_count": 39,
   "metadata": {},
   "outputs": [
    {
     "data": {
      "text/plain": [
       "[[' Ben '], [' JAMES ']]"
      ]
     },
     "execution_count": 39,
     "metadata": {},
     "output_type": "execute_result"
    }
   ],
   "source": [
    "nombre_de_pila"
   ]
  },
  {
   "attachments": {},
   "cell_type": "markdown",
   "metadata": {},
   "source": [
    "     \n",
    " - 3. El día en el que se mandó el email (os deberían salir 2).\n",
    "💡 Pista 💡 De la misma forma que antes buscamos por From: primero, ahora lo tendremos que hacer con Date: .*\n"
   ]
  },
  {
   "cell_type": "code",
   "execution_count": 40,
   "metadata": {},
   "outputs": [],
   "source": [
    "info_fecha = re.findall(\"Date: .*\", email)"
   ]
  },
  {
   "cell_type": "code",
   "execution_count": 41,
   "metadata": {},
   "outputs": [
    {
     "data": {
      "text/plain": [
       "['Date: Thu, 31 Oct 2002 05:10:00', 'Date: Thu, 31 Oct 2002 02:38:20 +0000']"
      ]
     },
     "execution_count": 41,
     "metadata": {},
     "output_type": "execute_result"
    }
   ],
   "source": [
    "info_fecha"
   ]
  },
  {
   "cell_type": "code",
   "execution_count": 42,
   "metadata": {},
   "outputs": [],
   "source": [
    "fecha = []\n",
    "\n",
    "for date in info_fecha:\n",
    "\n",
    "    fecha.append(re.findall(\"\\d{2}\\s\\w{3}\\s\\d{4}\", date)) # Este Regex es: dos dígitos, espacio, tres letras, espacio, cuatro dígitos"
   ]
  },
  {
   "cell_type": "code",
   "execution_count": 43,
   "metadata": {},
   "outputs": [
    {
     "data": {
      "text/plain": [
       "[['31 Oct 2002'], ['31 Oct 2002']]"
      ]
     },
     "execution_count": 43,
     "metadata": {},
     "output_type": "execute_result"
    }
   ],
   "source": [
    "fecha"
   ]
  },
  {
   "attachments": {},
   "cell_type": "markdown",
   "metadata": {},
   "source": [
    " - 4. El asunto del email (os deberían salir 2).\n",
    "💡 Pista 💡 Busca primero \"Subject:.* y después busca el patrón para extraer el asunto.\n"
   ]
  },
  {
   "cell_type": "code",
   "execution_count": 44,
   "metadata": {},
   "outputs": [],
   "source": [
    "info_asunto = re.findall(\"Subject:.*\", email)"
   ]
  },
  {
   "cell_type": "code",
   "execution_count": 48,
   "metadata": {},
   "outputs": [
    {
     "data": {
      "text/plain": [
       "['Subject: URGENT ASSISTANCE /RELATIONSHIP (P)',\n",
       " 'Subject: URGENT BUSINESS ASSISTANCE AND PARTNERSHIP']"
      ]
     },
     "execution_count": 48,
     "metadata": {},
     "output_type": "execute_result"
    }
   ],
   "source": [
    "info_asunto"
   ]
  },
  {
   "cell_type": "code",
   "execution_count": 46,
   "metadata": {},
   "outputs": [],
   "source": [
    "asuntos = []\n",
    "\n",
    "for subject in info_asunto:\n",
    "\n",
    "    asuntos.append(re.findall(\"[A-Z]+\\s[A-Z]+\\s.*[A-Z]+\\s.*\", subject))"
   ]
  },
  {
   "cell_type": "code",
   "execution_count": 47,
   "metadata": {},
   "outputs": [
    {
     "data": {
      "text/plain": [
       "[['URGENT ASSISTANCE /RELATIONSHIP (P)'],\n",
       " ['URGENT BUSINESS ASSISTANCE AND PARTNERSHIP']]"
      ]
     },
     "execution_count": 47,
     "metadata": {},
     "output_type": "execute_result"
    }
   ],
   "source": [
    "asuntos"
   ]
  },
  {
   "attachments": {},
   "cell_type": "markdown",
   "metadata": {},
   "source": [
    " - 5. Guarda todos los resultados en un diccionario."
   ]
  },
  {
   "cell_type": "code",
   "execution_count": 49,
   "metadata": {},
   "outputs": [],
   "source": [
    "diccionario_email ={\"Email\": direcciones_email, \"Nombre completo\": nombre_completo, \"Nombre de pila\": nombre_de_pila, \"Fecha\": fecha, \"Asunto\": asuntos}\n",
    "\n"
   ]
  },
  {
   "cell_type": "code",
   "execution_count": 50,
   "metadata": {},
   "outputs": [
    {
     "data": {
      "text/plain": [
       "{'Email': [['bensul2004nng@spinfinder.com'], ['james_ngola2002@maktoob.com']],\n",
       " 'Nombre completo': [['Mr. Ben Suleman'], ['MR. JAMES NGOLA']],\n",
       " 'Nombre de pila': [[' Ben '], [' JAMES ']],\n",
       " 'Fecha': [['31 Oct 2002'], ['31 Oct 2002']],\n",
       " 'Asunto': [['URGENT ASSISTANCE /RELATIONSHIP (P)'],\n",
       "  ['URGENT BUSINESS ASSISTANCE AND PARTNERSHIP']]}"
      ]
     },
     "execution_count": 50,
     "metadata": {},
     "output_type": "execute_result"
    }
   ],
   "source": [
    "diccionario_email"
   ]
  },
  {
   "attachments": {},
   "cell_type": "markdown",
   "metadata": {},
   "source": [
    "💪🏽 BONUS 💪🏽\n",
    "Utiliza funciones para cada una de los objetivos planteados."
   ]
  }
 ],
 "metadata": {
  "kernelspec": {
   "display_name": "adalabenv",
   "language": "python",
   "name": "python3"
  },
  "language_info": {
   "codemirror_mode": {
    "name": "ipython",
    "version": 3
   },
   "file_extension": ".py",
   "mimetype": "text/x-python",
   "name": "python",
   "nbconvert_exporter": "python",
   "pygments_lexer": "ipython3",
   "version": "3.10.9"
  },
  "orig_nbformat": 4
 },
 "nbformat": 4,
 "nbformat_minor": 2
}
