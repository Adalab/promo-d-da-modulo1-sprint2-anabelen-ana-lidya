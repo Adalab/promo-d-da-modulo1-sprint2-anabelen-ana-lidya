{
 "cells": [
  {
   "attachments": {},
   "cell_type": "markdown",
   "metadata": {},
   "source": [
    "# **Ejercicios de pair programming Módulo 1**\n",
    "## **Lección 11**\n",
    "### **Expresiones regulares**\n",
    "\n",
    "---"
   ]
  },
  {
   "attachments": {},
   "cell_type": "markdown",
   "metadata": {},
   "source": [
    "Antes de empezar:\n",
    "\n",
    "📌 Cargad el fichero del email que tenemos al final de la explicación del pair de hoy y almacenarlo en una variable. Para abrirlo tendremos que usar el método open aprendido en lecciones anteriores. \n",
    "\n",
    "📌 Importad las librerías necesarias para poder usar las expresiones regulares"
   ]
  },
  {
   "cell_type": "code",
   "execution_count": 51,
   "metadata": {},
   "outputs": [],
   "source": [
    "email = open(\"email.txt\", \"r\").read()"
   ]
  },
  {
   "cell_type": "code",
   "execution_count": 52,
   "metadata": {},
   "outputs": [],
   "source": [
    "import re"
   ]
  },
  {
   "attachments": {},
   "cell_type": "markdown",
   "metadata": {},
   "source": [
    " - 1. Extraer el email de la persona que envió el email (os deberían salir 2). 💡 Pista 💡 Tendremos que hacer dos busquedas:\n",
    "    \n",
    "    \n",
    "     - Una para extraer toda la información del remitente. El remitente siempre empieza por From:\n",
    "    \n",
    "    ```python\n",
    "        info_remitente = re.findall('From:.*',email)\n",
    "    ``` \n",
    "\n",
    "     - Otra para extraer el email únicamente.\n"
   ]
  },
  {
   "cell_type": "code",
   "execution_count": 91,
   "metadata": {},
   "outputs": [],
   "source": [
    "def extraer_email(texto):\n",
    "    \n",
    "    info_remitente = re.findall(\"From: .*\", texto)\n",
    "    \n",
    "    direcciones_email = []\n",
    "\n",
    "    for remitente in info_remitente:\n",
    "\n",
    "        direcciones_email.extend(re.findall(\"\\w+@\\w+\\.com\", remitente))\n",
    "\n",
    "    return direcciones_email"
   ]
  },
  {
   "cell_type": "code",
   "execution_count": 92,
   "metadata": {},
   "outputs": [
    {
     "data": {
      "text/plain": [
       "['bensul2004nng@spinfinder.com', 'james_ngola2002@maktoob.com']"
      ]
     },
     "execution_count": 92,
     "metadata": {},
     "output_type": "execute_result"
    }
   ],
   "source": [
    "extraer_email(email)"
   ]
  },
  {
   "attachments": {},
   "cell_type": "markdown",
   "metadata": {},
   "source": [
    " - 2. Extraer el nombre de la persona que envió el email (os deberían salir 2). 💡 Pista 💡 Tendremos que hacer dos busquedas:\n",
    "\n",
    "     - Podemos usar el resultado de la primera búsqueda del ejercicio anterior para sacar el nombre.\n",
    "\n",
    "     - Otra para extraer el nombre únicamente.\n"
   ]
  },
  {
   "cell_type": "code",
   "execution_count": 93,
   "metadata": {},
   "outputs": [],
   "source": [
    "def extraer_nombre_completo(texto):\n",
    "\n",
    "    info_remitente = re.findall(\"From: .*\", texto)\n",
    "\n",
    "    nombre_completo = []\n",
    "\n",
    "    for remitente in info_remitente:\n",
    "\n",
    "        nombre_completo.extend(re.findall(\"\\w+\\.\\s\\w+\\s\\w+\", remitente)) #Cogemos str, punto, espacio, str, espacio, str\n",
    "\n",
    "    return nombre_completo    "
   ]
  },
  {
   "cell_type": "code",
   "execution_count": 94,
   "metadata": {},
   "outputs": [
    {
     "data": {
      "text/plain": [
       "['Mr. Ben Suleman', 'MR. JAMES NGOLA']"
      ]
     },
     "execution_count": 94,
     "metadata": {},
     "output_type": "execute_result"
    }
   ],
   "source": [
    "extraer_nombre_completo(email)"
   ]
  },
  {
   "cell_type": "code",
   "execution_count": 96,
   "metadata": {},
   "outputs": [],
   "source": [
    "def extraer_nombre_pila(texto):\n",
    "\n",
    "    info_remitente = re.findall(\"From: .*\", texto)\n",
    "\n",
    "    nombre_de_pila = []\n",
    "\n",
    "    for nombre in info_remitente:\n",
    "\n",
    "        nombre_de_pila.extend((re.findall(\"\\s\\w+\\s\", nombre)))\n",
    "\n",
    "    nombre_de_pila_sin_espacios = []\n",
    "\n",
    "    for nombre in nombre_de_pila:\n",
    "        nombre = nombre.strip()\n",
    "        nombre_de_pila_sin_espacios.append(nombre)    \n",
    "\n",
    "    return nombre_de_pila_sin_espacios"
   ]
  },
  {
   "cell_type": "code",
   "execution_count": 97,
   "metadata": {},
   "outputs": [
    {
     "data": {
      "text/plain": [
       "['Ben', 'JAMES']"
      ]
     },
     "execution_count": 97,
     "metadata": {},
     "output_type": "execute_result"
    }
   ],
   "source": [
    "extraer_nombre_pila(email)"
   ]
  },
  {
   "attachments": {},
   "cell_type": "markdown",
   "metadata": {},
   "source": [
    "     \n",
    " - 3. El día en el que se mandó el email (os deberían salir 2).\n",
    "💡 Pista 💡 De la misma forma que antes buscamos por From: primero, ahora lo tendremos que hacer con Date: .*\n"
   ]
  },
  {
   "cell_type": "code",
   "execution_count": 98,
   "metadata": {},
   "outputs": [],
   "source": [
    "def extraer_fecha(texto):\n",
    "\n",
    "    info_fecha = re.findall(\"Date: .*\", email)\n",
    "\n",
    "    fecha = []\n",
    "\n",
    "    for date in info_fecha:\n",
    "\n",
    "        fecha.extend(re.findall(\"\\d{2}\\s\\w{3}\\s\\d{4}\", date)) # Este Regex es: dos dígitos, espacio, tres letras, espacio, cuatro dígitos\n",
    "\n",
    "    return fecha"
   ]
  },
  {
   "cell_type": "code",
   "execution_count": 99,
   "metadata": {},
   "outputs": [
    {
     "data": {
      "text/plain": [
       "['31 Oct 2002', '31 Oct 2002']"
      ]
     },
     "execution_count": 99,
     "metadata": {},
     "output_type": "execute_result"
    }
   ],
   "source": [
    "extraer_fecha(email)"
   ]
  },
  {
   "attachments": {},
   "cell_type": "markdown",
   "metadata": {},
   "source": [
    " - 4. El asunto del email (os deberían salir 2).\n",
    "💡 Pista 💡 Busca primero \"Subject:.* y después busca el patrón para extraer el asunto.\n"
   ]
  },
  {
   "cell_type": "code",
   "execution_count": 100,
   "metadata": {},
   "outputs": [],
   "source": [
    "def extraer_asunto(texto):\n",
    "\n",
    "    info_asunto = re.findall(\"Subject:.*\", email)\n",
    "\n",
    "    asuntos = []\n",
    "\n",
    "    for subject in info_asunto:\n",
    "\n",
    "        asuntos.extend(re.findall(\"[A-Z]+\\s[A-Z]+\\s.*[A-Z]+\\s.*\", subject))\n",
    "\n",
    "    return asuntos"
   ]
  },
  {
   "cell_type": "code",
   "execution_count": 101,
   "metadata": {},
   "outputs": [
    {
     "data": {
      "text/plain": [
       "['URGENT ASSISTANCE /RELATIONSHIP (P)',\n",
       " 'URGENT BUSINESS ASSISTANCE AND PARTNERSHIP']"
      ]
     },
     "execution_count": 101,
     "metadata": {},
     "output_type": "execute_result"
    }
   ],
   "source": [
    "extraer_asunto(email)"
   ]
  },
  {
   "attachments": {},
   "cell_type": "markdown",
   "metadata": {},
   "source": [
    " - 5. Guarda todos los resultados en un diccionario."
   ]
  },
  {
   "cell_type": "code",
   "execution_count": 118,
   "metadata": {},
   "outputs": [],
   "source": [
    "def crear_diccionario(texto):\n",
    "\n",
    "    diccionario_texto = {\"Email\" : extraer_email(texto), \n",
    "                         \"Nombre completo\" : extraer_nombre_completo(texto), \n",
    "                         \"Nombre de pila\" : extraer_nombre_pila(texto),\n",
    "                         \"Fecha\" : extraer_fecha(texto),\n",
    "                         \"Asunto\" : extraer_asunto(texto)}                         \n",
    "\n",
    "    return diccionario_texto"
   ]
  },
  {
   "cell_type": "code",
   "execution_count": 119,
   "metadata": {},
   "outputs": [],
   "source": [
    "datos_email = crear_diccionario(email)\n"
   ]
  },
  {
   "cell_type": "code",
   "execution_count": 121,
   "metadata": {},
   "outputs": [
    {
     "data": {
      "text/plain": [
       "{'Email': ['bensul2004nng@spinfinder.com', 'james_ngola2002@maktoob.com'],\n",
       " 'Nombre completo': ['Mr. Ben Suleman', 'MR. JAMES NGOLA'],\n",
       " 'Nombre de pila': ['Ben', 'JAMES'],\n",
       " 'Fecha': ['31 Oct 2002', '31 Oct 2002'],\n",
       " 'Asunto': ['URGENT ASSISTANCE /RELATIONSHIP (P)',\n",
       "  'URGENT BUSINESS ASSISTANCE AND PARTNERSHIP']}"
      ]
     },
     "execution_count": 121,
     "metadata": {},
     "output_type": "execute_result"
    }
   ],
   "source": [
    "datos_email"
   ]
  },
  {
   "attachments": {},
   "cell_type": "markdown",
   "metadata": {},
   "source": [
    "💪🏽 BONUS 💪🏽\n",
    "Utiliza funciones para cada una de los objetivos planteados."
   ]
  }
 ],
 "metadata": {
  "kernelspec": {
   "display_name": "adalabenv",
   "language": "python",
   "name": "python3"
  },
  "language_info": {
   "codemirror_mode": {
    "name": "ipython",
    "version": 3
   },
   "file_extension": ".py",
   "mimetype": "text/x-python",
   "name": "python",
   "nbconvert_exporter": "python",
   "pygments_lexer": "ipython3",
   "version": "3.10.9"
  },
  "orig_nbformat": 4
 },
 "nbformat": 4,
 "nbformat_minor": 2
}
