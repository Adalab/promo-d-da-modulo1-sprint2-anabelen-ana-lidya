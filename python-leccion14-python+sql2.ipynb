{
 "cells": [
  {
   "attachments": {},
   "cell_type": "markdown",
   "metadata": {},
   "source": [
    "# **Ejercicios de pair programming Módulo 1**\n",
    "## **Lección 14**\n",
    "### **Python + SQL 2**\n",
    "\n",
    "---\n"
   ]
  },
  {
   "attachments": {},
   "cell_type": "markdown",
   "metadata": {},
   "source": [
    "Durante la clase de pair programming de creación de tablas de SQL nos creamos nuestra primerita BBDD desde cero en Workbench. En el ejercicio de hoy volveremos a crear esa misma BBDD, pero esta vez desde Python.\n",
    "\n",
    "📌 NOTA Utilizad el nombre de la BBDD de mi_primerita_BBDD_Python\n",
    "📌 NOTA Cuando creeis las distintas tablas de vuestra BBDD repetereis la mismas lineas de código una y otra vez. Para evitar esto, crearos una función que nos sirva para crear tablas independientemente del contenido de la tabla. La función recibirá como parámetros:\n",
    "\n",
    " - Contraseña de la conexión al servidor.\n",
    " - Query para crear la tabla.\n",
    "\n",
    "A modo de recap de lo que contenía la BBDD:\n",
    "\n",
    " - Tabla Zapatillas: tiene 4 columnas: id, modelo, color, talla con las siguientes características:\n",
    "    - idZapatillas: es una clave primaria de tipo int, autoincremental y no nula.\n",
    "    - Modelo: es una cadena de caracteres de longitud máxima de 45 caracteres, no nula.\n",
    "    -Color: es una cadena de caracteres de longitud máxima de 45 caracteres, no nula.\n",
    "    -Talla: es entero, no nula.\n",
    "\n",
    " - Tabla Clientes: tiene 9 columnas idcliente, nombre, numero_telefono, email, direccion, ciudad, provincia, pais, codigo_postal con las siguientes características:\n",
    "    - idCliente: es una clave primaria de tipo int, autoincremental y no nula.\n",
    "    - Nombre: es una cadena de caracteres de longitud máxima de 45 caracteres, no nula.\n",
    "    - Numero_telefono: es un entero de longitud máxima de 9 caracteres, no nula.\n",
    "    - Email: es una cadena de caracteres de longitud máxima de 45 caracteres, no nula.\n",
    "    - Direccion: es una cadena de caracteres de longitud máxima de 45 caracteres, no nula.\n",
    "    - Ciudad: es una cadena de caracteres de longitud máxima de 45 caracteres, puede ser nula.\n",
    "    - Provincia: es una cadena de caracteres de longitud máxima de 45 caracteres, no nula.\n",
    "    - Pais: es una cadena de caracteres de longitud máxima de 45 caracteres, no nula.\n",
    "    - Codigo_postal: entero de máxima longitud 9, no nula.\n",
    "\n",
    " - Tabla Empleados: tiene 5 columnas idEmpleado, nombre, tienda, salario, fecha_incorporacion con las siguientes características:\n",
    "    - idEmpleado: es una clave primaria de tipo int, autoincremental y no nula.\n",
    "    - Nombre: es una cadena de caracteres de longitud máxima de 45 caracteres, no nula.\n",
    "    - Tienda: es una cadena de caracteres de longitud máxima de 45 caracteres, no nula.\n",
    "    - salario: es decimal, puede ser nula.\n",
    "    - fecha_incorporacion: es una columna de tipo date, no nula.\n",
    "\n",
    " - Tabla Facturas: tiene 5 columnas idFactura, idEmpleado, idCliente, fecha, total con las siguientes características:\n",
    "    - idFactura: es una clave primaria de tipo int, autoincremental y no nula.\n",
    "    - idEmpleado: es una clave foránea de tipo int, no nula.\n",
    "    - idCliente: es una clave foránea de tipo int, no nula.\n",
    "    - idZapatilla: es una clave foránea de tipo int, no nula\n",
    "    - Fecha: es una columna de tipo date, no nula.\n",
    "    - Total: es decimal, no nula.\n",
    "\n",
    "📌 NOTA En esta última tabla tendremos que incluir todos los CONSTRAINTnecesarios para establecer los relaciones entre las tablas, donde tendremos que especificar:\n",
    "\n",
    "        - Foreign Key\n",
    "        - References"
   ]
  },
  {
   "cell_type": "code",
   "execution_count": 1,
   "metadata": {},
   "outputs": [
    {
     "name": "stdout",
     "output_type": "stream",
     "text": [
      "CMySQLCursor: CREATE DATABASE mi_primerita_BBDD_Python\n"
     ]
    }
   ],
   "source": [
    "import mysql.connector\n",
    "\n",
    "cnx = mysql.connector.connect(user='root', password='AlumnaAdalab',\n",
    "                              host='127.0.0.1')\n",
    "\n",
    "\n",
    "mycursor = cnx.cursor()\n",
    "try:\n",
    "    mycursor.execute(\"CREATE DATABASE mi_primerita_BBDD_Python\")\n",
    "    print(mycursor)\n",
    "except mysql.connector.Error as err:\n",
    "    print(err)\n",
    "    print(\"Error Code:\", err.errno)\n",
    "    print(\"SQLSTATE\", err.sqlstate)\n",
    "    print(\"Message\", err.msg)"
   ]
  },
  {
   "cell_type": "code",
   "execution_count": 2,
   "metadata": {},
   "outputs": [],
   "source": [
    "def create_tables(contraseña, query):\n",
    "    \"\"\"Esta función sirve para crear tablas en la database mi_primerita_BBDD_Python, recibe dos parámetros:\n",
    "        - la password del servidor de MySQL en formato string\n",
    "        - la query en formato string\n",
    "    \"\"\"\n",
    "\n",
    "    cnx = mysql.connector.connect(user='root', password= contraseña,\n",
    "                              host='127.0.0.1', database='mi_primerita_BBDD_Python')\n",
    "\n",
    "\n",
    "    mycursor = cnx.cursor()\n",
    "    try:\n",
    "        mycursor.execute(query)\n",
    "        print(mycursor)\n",
    "    except mysql.connector.Error as err:\n",
    "        print(err)\n",
    "        print(\"Error Code:\", err.errno)\n",
    "        print(\"SQLSTATE\", err.sqlstate)\n",
    "        print(\"Message\", err.msg)"
   ]
  },
  {
   "cell_type": "code",
   "execution_count": 4,
   "metadata": {},
   "outputs": [
    {
     "name": "stdout",
     "output_type": "stream",
     "text": [
      "CMySQLCursor: CREATE TABLE zapatillas\n",
      "                ..\n"
     ]
    }
   ],
   "source": [
    "\n",
    "create_tables(\"AlumnaAdalab\", \"\"\"CREATE TABLE zapatillas\n",
    "                                                    (id_zapatilla INT NOT NULL AUTO_INCREMENT,\n",
    "                                                    modelo VARCHAR(45) NOT NULL,\n",
    "                                                    color VARCHAR(45) NOT NULL,\n",
    "                                                    talla INT NOT NULL,\n",
    "                                                    PRIMARY KEY (id_zapatilla))\n",
    "                                                    \"\"\" )"
   ]
  },
  {
   "cell_type": "code",
   "execution_count": 6,
   "metadata": {},
   "outputs": [
    {
     "name": "stdout",
     "output_type": "stream",
     "text": [
      "CMySQLCursor: CREATE TABLE clientes (\n",
      "                ..\n"
     ]
    }
   ],
   "source": [
    "create_tables(\"AlumnaAdalab\", \"\"\"CREATE TABLE clientes (\n",
    "                                                        id_cliente INT NOT NULL AUTO_INCREMENT,\n",
    "                                                        nombre VARCHAR(45) NOT NULL,\n",
    "                                                        numero_telefono INT(9) NOT NULL,\n",
    "                                                        email VARCHAR(45) NOT NULL,\n",
    "                                                        direccion VARCHAR(45) NOT NULL,\n",
    "                                                        ciudad VARCHAR(45) DEFAULT NULL,\n",
    "                                                        provincia VARCHAR(45) NOT NULL,\n",
    "                                                        pais VARCHAR(45) NOT NULL,\n",
    "                                                        codigo_postal INT (9) NOT NULL,\n",
    "                                                        PRIMARY KEY (id_cliente))\n",
    "                                                        \"\"\")"
   ]
  },
  {
   "cell_type": "code",
   "execution_count": 7,
   "metadata": {},
   "outputs": [
    {
     "name": "stdout",
     "output_type": "stream",
     "text": [
      "CMySQLCursor: CREATE TABLE empleados(\n",
      "                ..\n"
     ]
    }
   ],
   "source": [
    "create_tables(\"AlumnaAdalab\", \"\"\"CREATE TABLE empleados(\n",
    "                                                        id_empleado INT NOT NULL AUTO_INCREMENT,\n",
    "                                                        nombre VARCHAR(45) NOT NULL,\n",
    "                                                        tienda VARCHAR(45) NOT NULL,\n",
    "                                                        salario FLOAT,\n",
    "                                                        fecha_incorporacion DATE NOT NULL,\n",
    "                                                        PRIMARY KEY (id_empleado)\n",
    "                                                        )\"\"\")"
   ]
  },
  {
   "cell_type": "code",
   "execution_count": 8,
   "metadata": {},
   "outputs": [
    {
     "name": "stdout",
     "output_type": "stream",
     "text": [
      "CMySQLCursor: CREATE TABLE facturas (\n",
      "                ..\n"
     ]
    }
   ],
   "source": [
    "create_tables(\"AlumnaAdalab\", \"\"\"CREATE TABLE facturas (\n",
    "                                                        id_factura INT NOT NULL AUTO_INCREMENT,\n",
    "                                                        id_empleado INT NOT NULL,\n",
    "                                                        id_cliente INT NOT NULL,\n",
    "                                                        id_zapatilla INT NOT NULL,\n",
    "                                                        fecha DATE NOT NULL,\n",
    "                                                        total FLOAT NOT NULL,\n",
    "                                                        PRIMARY KEY (id_factura),\n",
    "                                                        CONSTRAINT `fk_facturas_cliente`\n",
    "                                                            FOREIGN KEY (id_cliente) \n",
    "                                                            REFERENCES clientes (id_cliente) \n",
    "                                                            ON DELETE CASCADE ON UPDATE CASCADE,\n",
    "                                                        CONSTRAINT `fk_facturas_empleados` \n",
    "                                                            FOREIGN KEY (id_empleado) \n",
    "                                                            REFERENCES empleados (id_empleado) \n",
    "                                                            ON DELETE CASCADE ON UPDATE CASCADE,\n",
    "                                                        CONSTRAINT `fk_facturas_zapatillas` \n",
    "                                                            FOREIGN KEY (id_zapatilla) \n",
    "                                                            REFERENCES zapatillas (id_zapatilla) \n",
    "                                                            ON DELETE CASCADE ON UPDATE CASCADE\n",
    "                                                        )\"\"\")"
   ]
  },
  {
   "cell_type": "code",
   "execution_count": 9,
   "metadata": {},
   "outputs": [],
   "source": [
    "cnx.close()"
   ]
  }
 ],
 "metadata": {
  "kernelspec": {
   "display_name": "Python 3",
   "language": "python",
   "name": "python3"
  },
  "language_info": {
   "codemirror_mode": {
    "name": "ipython",
    "version": 3
   },
   "file_extension": ".py",
   "mimetype": "text/x-python",
   "name": "python",
   "nbconvert_exporter": "python",
   "pygments_lexer": "ipython3",
   "version": "3.10.9"
  },
  "orig_nbformat": 4
 },
 "nbformat": 4,
 "nbformat_minor": 2
}
