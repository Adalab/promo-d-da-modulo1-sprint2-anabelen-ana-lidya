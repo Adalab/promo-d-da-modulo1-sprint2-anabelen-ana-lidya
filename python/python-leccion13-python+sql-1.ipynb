{
 "cells": [
  {
   "attachments": {},
   "cell_type": "markdown",
   "metadata": {},
   "source": [
    "# **Ejercicios de pair programming Módulo 1**\n",
    "## **Lección 13**\n",
    "### **Python + SQL 1**\n",
    "\n",
    "---\n"
   ]
  },
  {
   "attachments": {},
   "cell_type": "markdown",
   "metadata": {},
   "source": [
    "\n",
    "1. Antes de empezar a trabajar con la BBDD de Northwind, conozcamos un poco las BBDD que tenemos en nuestro servidor. ¿Qué BBDD tenemos en nuestro servidor?\n"
   ]
  },
  {
   "cell_type": "code",
   "execution_count": 2,
   "metadata": {},
   "outputs": [
    {
     "name": "stdout",
     "output_type": "stream",
     "text": [
      "('adalab',)\n",
      "('BD_pruebas',)\n",
      "('information_schema',)\n",
      "('leccion-1-sql',)\n",
      "('leccion-10-sql',)\n",
      "('leccion-11-sql',)\n",
      "('leccion-12-sql',)\n",
      "('leccion-13-sql',)\n",
      "('leccion-14-sql',)\n",
      "('leccion-2-sql',)\n",
      "('leccion-3-sql',)\n",
      "('leccion-4-sql',)\n",
      "('leccion-5-sql',)\n",
      "('leccion-6-sql',)\n",
      "('leccion-7-sql',)\n",
      "('leccion-8-sql',)\n",
      "('leccion-9-sql',)\n",
      "('mysql',)\n",
      "('new_schema',)\n",
      "('northwind',)\n",
      "('performance_schema',)\n",
      "('proyecto1',)\n",
      "('sakila',)\n",
      "('sport_analytics',)\n",
      "('sys',)\n",
      "('tienda',)\n",
      "('tiendas_zapatillas',)\n",
      "('world',)\n"
     ]
    }
   ],
   "source": [
    "import mysql.connector\n",
    "import pandas as pd\n",
    "\n",
    "mytabla = mysql.connector.connect(\n",
    "                                  user = 'root', password = 'AlumnaAdalab',\n",
    "                                  host = '127.0.0.1', database = 'northwind')\n",
    "\n",
    "mycursor = mytabla.cursor()\n",
    "\n",
    "mycursor.execute(\"SHOW DATABASES\")\n",
    "\n",
    "for x in mycursor:\n",
    "    print(x)\n"
   ]
  },
  {
   "attachments": {},
   "cell_type": "markdown",
   "metadata": {},
   "source": [
    "2. Empezemos a explorar la BBDD de Northwind. ¿Qué tablas componen la BBDD? Recuerda que primero nos tendremos que conectar con la BBDD sobre la que queremos trabajar. Guarda el resultado de los nombres de la tablas en una lista.\n"
   ]
  },
  {
   "cell_type": "code",
   "execution_count": 4,
   "metadata": {},
   "outputs": [
    {
     "name": "stdout",
     "output_type": "stream",
     "text": [
      "['categories', 'customer_customer_demo', 'customer_demographics', 'customers', 'employee_territories', 'employees', 'order_details', 'orders', 'products', 'region', 'shippers', 'suppliers', 'territories']\n"
     ]
    }
   ],
   "source": [
    "mytabla = mysql.connector.connect(\n",
    "                                  user = 'root', password = 'AlumnaAdalab',\n",
    "                                  host = '127.0.0.1', database = 'northwind')\n",
    "\n",
    "mycursor = mytabla.cursor()\n",
    "\n",
    "mycursor.execute(\"SHOW TABLES\")\n",
    "\n",
    "lista_tablas_northwind = []\n",
    "\n",
    "for x in mycursor:\n",
    "    lista_tablas_northwind.append(x[0])\n",
    "\n",
    "print(lista_tablas_northwind)\n",
    "\n"
   ]
  },
  {
   "attachments": {},
   "cell_type": "markdown",
   "metadata": {},
   "source": [
    "3. ¿Qué columnas tiene cada una de las tablas? Para esto tendréis que hacer un for loop para que nos saque el resultado de todas las columnas.\n"
   ]
  },
  {
   "cell_type": "code",
   "execution_count": 5,
   "metadata": {},
   "outputs": [
    {
     "name": "stdout",
     "output_type": "stream",
     "text": [
      "('def', 'tienda', 'customers', 'address_line1', 6, None, 'NO', 'varchar', 50, 200, None, None, None, 'utf8mb4', 'utf8mb4_0900_ai_ci', 'varchar(50)', '', '', 'select,insert,update,references', '', '', None)\n",
      "('def', 'tienda', 'customers', 'address_line2', 7, None, 'YES', 'varchar', 50, 200, None, None, None, 'utf8mb4', 'utf8mb4_0900_ai_ci', 'varchar(50)', '', '', 'select,insert,update,references', '', '', None)\n",
      "('def', 'tienda', 'customers', 'city', 8, None, 'NO', 'varchar', 50, 200, None, None, None, 'utf8mb4', 'utf8mb4_0900_ai_ci', 'varchar(50)', '', '', 'select,insert,update,references', '', '', None)\n",
      "('def', 'tienda', 'customers', 'contact_first_name', 4, None, 'NO', 'varchar', 50, 200, None, None, None, 'utf8mb4', 'utf8mb4_0900_ai_ci', 'varchar(50)', '', '', 'select,insert,update,references', '', '', None)\n",
      "('def', 'tienda', 'customers', 'contact_last_name', 3, None, 'NO', 'varchar', 50, 200, None, None, None, 'utf8mb4', 'utf8mb4_0900_ai_ci', 'varchar(50)', '', '', 'select,insert,update,references', '', '', None)\n",
      "('def', 'tienda', 'customers', 'country', 11, None, 'NO', 'varchar', 50, 200, None, None, None, 'utf8mb4', 'utf8mb4_0900_ai_ci', 'varchar(50)', '', '', 'select,insert,update,references', '', '', None)\n",
      "('def', 'tienda', 'customers', 'credit_limit', 13, None, 'YES', 'decimal', None, None, 10, 2, None, None, None, 'decimal(10,2)', '', '', 'select,insert,update,references', '', '', None)\n",
      "('def', 'tienda', 'customers', 'customer_name', 2, None, 'NO', 'varchar', 50, 200, None, None, None, 'utf8mb4', 'utf8mb4_0900_ai_ci', 'varchar(50)', '', '', 'select,insert,update,references', '', '', None)\n",
      "('def', 'tienda', 'customers', 'customer_number', 1, None, 'NO', 'int', None, None, 10, 0, None, None, None, 'int', 'PRI', '', 'select,insert,update,references', '', '', None)\n",
      "('def', 'tienda', 'customers', 'phone', 5, None, 'NO', 'varchar', 50, 200, None, None, None, 'utf8mb4', 'utf8mb4_0900_ai_ci', 'varchar(50)', '', '', 'select,insert,update,references', '', '', None)\n",
      "('def', 'tienda', 'customers', 'postal_code', 10, None, 'YES', 'varchar', 15, 60, None, None, None, 'utf8mb4', 'utf8mb4_0900_ai_ci', 'varchar(15)', '', '', 'select,insert,update,references', '', '', None)\n",
      "('def', 'tienda', 'customers', 'sales_rep_employee_number', 12, None, 'YES', 'int', None, None, 10, 0, None, None, None, 'int', 'MUL', '', 'select,insert,update,references', '', '', None)\n",
      "('def', 'tienda', 'customers', 'state', 9, None, 'YES', 'varchar', 50, 200, None, None, None, 'utf8mb4', 'utf8mb4_0900_ai_ci', 'varchar(50)', '', '', 'select,insert,update,references', '', '', None)\n",
      "('def', 'tienda', 'employees', 'email', 5, None, 'NO', 'varchar', 100, 100, None, None, None, 'latin1', 'latin1_swedish_ci', 'varchar(100)', '', '', 'select,insert,update,references', '', '', None)\n",
      "('def', 'tienda', 'employees', 'employee_number', 1, None, 'NO', 'int', None, None, 10, 0, None, None, None, 'int', 'PRI', '', 'select,insert,update,references', '', '', None)\n",
      "('def', 'tienda', 'employees', 'extension', 4, None, 'NO', 'varchar', 10, 10, None, None, None, 'latin1', 'latin1_swedish_ci', 'varchar(10)', '', '', 'select,insert,update,references', '', '', None)\n",
      "('def', 'tienda', 'employees', 'first_name', 3, None, 'NO', 'varchar', 50, 50, None, None, None, 'latin1', 'latin1_swedish_ci', 'varchar(50)', '', '', 'select,insert,update,references', '', '', None)\n",
      "('def', 'tienda', 'employees', 'job_title', 8, None, 'NO', 'varchar', 50, 50, None, None, None, 'latin1', 'latin1_swedish_ci', 'varchar(50)', '', '', 'select,insert,update,references', '', '', None)\n",
      "('def', 'tienda', 'employees', 'last_name', 2, None, 'NO', 'varchar', 50, 50, None, None, None, 'latin1', 'latin1_swedish_ci', 'varchar(50)', '', '', 'select,insert,update,references', '', '', None)\n",
      "('def', 'tienda', 'employees', 'office_code', 6, None, 'NO', 'varchar', 10, 10, None, None, None, 'latin1', 'latin1_swedish_ci', 'varchar(10)', 'MUL', '', 'select,insert,update,references', '', '', None)\n",
      "('def', 'tienda', 'employees', 'reports_to', 7, None, 'YES', 'int', None, None, 10, 0, None, None, None, 'int', 'MUL', '', 'select,insert,update,references', '', '', None)\n",
      "('def', 'tienda', 'order_details', 'order_line_number', 5, None, 'NO', 'smallint', None, None, 5, 0, None, None, None, 'smallint', '', '', 'select,insert,update,references', '', '', None)\n",
      "('def', 'tienda', 'order_details', 'order_number', 1, None, 'NO', 'int', None, None, 10, 0, None, None, None, 'int', 'PRI', '', 'select,insert,update,references', '', '', None)\n",
      "('def', 'tienda', 'order_details', 'price_each', 4, None, 'NO', 'decimal', None, None, 10, 2, None, None, None, 'decimal(10,2)', '', '', 'select,insert,update,references', '', '', None)\n",
      "('def', 'tienda', 'order_details', 'product_code', 2, None, 'NO', 'varchar', 15, 15, None, None, None, 'latin1', 'latin1_swedish_ci', 'varchar(15)', 'PRI', '', 'select,insert,update,references', '', '', None)\n",
      "('def', 'tienda', 'order_details', 'quantity_ordered', 3, None, 'NO', 'int', None, None, 10, 0, None, None, None, 'int', '', '', 'select,insert,update,references', '', '', None)\n",
      "('def', 'tienda', 'orders', 'comments', 6, None, 'YES', 'text', 65535, 65535, None, None, None, 'latin1', 'latin1_swedish_ci', 'text', '', '', 'select,insert,update,references', '', '', None)\n",
      "('def', 'tienda', 'orders', 'customer_number', 7, None, 'NO', 'int', None, None, 10, 0, None, None, None, 'int', 'MUL', '', 'select,insert,update,references', '', '', None)\n",
      "('def', 'tienda', 'orders', 'order_date', 2, None, 'NO', 'date', None, None, None, None, None, None, None, 'date', '', '', 'select,insert,update,references', '', '', None)\n",
      "('def', 'tienda', 'orders', 'order_number', 1, None, 'NO', 'int', None, None, 10, 0, None, None, None, 'int', 'PRI', '', 'select,insert,update,references', '', '', None)\n",
      "('def', 'tienda', 'orders', 'required_date', 3, None, 'NO', 'date', None, None, None, None, None, None, None, 'date', '', '', 'select,insert,update,references', '', '', None)\n",
      "('def', 'tienda', 'orders', 'shipped_date', 4, None, 'YES', 'date', None, None, None, None, None, None, None, 'date', '', '', 'select,insert,update,references', '', '', None)\n",
      "('def', 'tienda', 'orders', 'status', 5, None, 'NO', 'varchar', 15, 15, None, None, None, 'latin1', 'latin1_swedish_ci', 'varchar(15)', '', '', 'select,insert,update,references', '', '', None)\n",
      "('def', 'tienda', 'products', 'buy_price', 8, None, 'NO', 'decimal', None, None, 10, 2, None, None, None, 'decimal(10,2)', '', '', 'select,insert,update,references', '', '', None)\n",
      "('def', 'tienda', 'products', 'msrp', 9, None, 'NO', 'decimal', None, None, 10, 2, None, None, None, 'decimal(10,2)', '', '', 'select,insert,update,references', '', '', None)\n",
      "('def', 'tienda', 'products', 'product_code', 1, None, 'NO', 'varchar', 15, 15, None, None, None, 'latin1', 'latin1_swedish_ci', 'varchar(15)', 'PRI', '', 'select,insert,update,references', '', '', None)\n",
      "('def', 'tienda', 'products', 'product_description', 6, None, 'NO', 'text', 65535, 65535, None, None, None, 'latin1', 'latin1_swedish_ci', 'text', '', '', 'select,insert,update,references', '', '', None)\n",
      "('def', 'tienda', 'products', 'product_line', 3, None, 'NO', 'varchar', 50, 50, None, None, None, 'latin1', 'latin1_swedish_ci', 'varchar(50)', 'MUL', '', 'select,insert,update,references', '', '', None)\n",
      "('def', 'tienda', 'products', 'product_name', 2, None, 'NO', 'varchar', 70, 70, None, None, None, 'latin1', 'latin1_swedish_ci', 'varchar(70)', '', '', 'select,insert,update,references', '', '', None)\n",
      "('def', 'tienda', 'products', 'product_scale', 4, None, 'NO', 'varchar', 10, 10, None, None, None, 'latin1', 'latin1_swedish_ci', 'varchar(10)', '', '', 'select,insert,update,references', '', '', None)\n",
      "('def', 'tienda', 'products', 'product_vendor', 5, None, 'NO', 'varchar', 50, 50, None, None, None, 'latin1', 'latin1_swedish_ci', 'varchar(50)', '', '', 'select,insert,update,references', '', '', None)\n",
      "('def', 'tienda', 'products', 'quantity_in_stock', 7, None, 'NO', 'smallint', None, None, 5, 0, None, None, None, 'smallint', '', '', 'select,insert,update,references', '', '', None)\n"
     ]
    }
   ],
   "source": [
    "mytabla = mysql.connector.connect(\n",
    "                                  user = 'root', password = 'AlumnaAdalab',\n",
    "                                  host = '127.0.0.1', database = 'tienda')\n",
    "\n",
    "mycursor = mytabla.cursor()\n",
    "\n",
    "for tabla in lista_tablas_northwind:\n",
    "    mycursor.execute(f\"SELECT * FROM INFORMATION_SCHEMA.COLUMNS WHERE TABLE_NAME = '{tabla}'\")\n",
    "\n",
    "    for x in mycursor:\n",
    "        if 'tienda' in x:\n",
    "            print(x)\n"
   ]
  },
  {
   "attachments": {},
   "cell_type": "markdown",
   "metadata": {},
   "source": [
    "4. Hagamos unas queries facilitas:\n",
    "\n",
    "4.1.  Extraed el primer pedido donde se ha gastado más. Devolved el id del pedido y la cantidad gastada.\n",
    "\n",
    "4.2.  Devuelve la misma query que en el anterior ejercicio, pero en este caso devuelve todos los resultados."
   ]
  },
  {
   "cell_type": "code",
   "execution_count": 6,
   "metadata": {},
   "outputs": [],
   "source": [
    "mytabla = mysql.connector.connect(\n",
    "                                  user = 'root', password = 'AlumnaAdalab',\n",
    "                                  host = '127.0.0.1', database = 'northwind')\n",
    "\n",
    "sql_query = (\"\"\"SELECT order_id, (unit_price * quantity) - ((unit_price * quantity) * discount) AS 'cantidad_gastada'\n",
    "            FROM order_details AS t1\n",
    "            WHERE (unit_price * quantity) - ((unit_price * quantity) * discount) = (\n",
    "\t\t\t\t\t\t\t\t\t\t\t\t\tSELECT MAX((unit_price * quantity) - ((unit_price * quantity) * discount))\n",
    "                                                    FROM order_details AS t2\n",
    "                                                    WHERE t1.order_id = t2.order_id)\n",
    "                                                    \n",
    "            ORDER BY (unit_price * quantity) - ((unit_price * quantity) * discount) DESC;\"\"\")\n",
    "\n",
    "dataframe = pd.read_sql_query(sql_query, mytabla)\n",
    "\n"
   ]
  },
  {
   "cell_type": "code",
   "execution_count": 7,
   "metadata": {},
   "outputs": [
    {
     "data": {
      "text/html": [
       "<div>\n",
       "<style scoped>\n",
       "    .dataframe tbody tr th:only-of-type {\n",
       "        vertical-align: middle;\n",
       "    }\n",
       "\n",
       "    .dataframe tbody tr th {\n",
       "        vertical-align: top;\n",
       "    }\n",
       "\n",
       "    .dataframe thead th {\n",
       "        text-align: right;\n",
       "    }\n",
       "</style>\n",
       "<table border=\"1\" class=\"dataframe\">\n",
       "  <thead>\n",
       "    <tr style=\"text-align: right;\">\n",
       "      <th></th>\n",
       "      <th>order_id</th>\n",
       "      <th>cantidad_gastada</th>\n",
       "    </tr>\n",
       "  </thead>\n",
       "  <tbody>\n",
       "    <tr>\n",
       "      <th>0</th>\n",
       "      <td>10981</td>\n",
       "      <td>15810.0</td>\n",
       "    </tr>\n",
       "  </tbody>\n",
       "</table>\n",
       "</div>"
      ],
      "text/plain": [
       "   order_id  cantidad_gastada\n",
       "0     10981           15810.0"
      ]
     },
     "execution_count": 7,
     "metadata": {},
     "output_type": "execute_result"
    }
   ],
   "source": [
    "dataframe.head(1)"
   ]
  },
  {
   "cell_type": "code",
   "execution_count": 8,
   "metadata": {},
   "outputs": [
    {
     "data": {
      "text/html": [
       "<div>\n",
       "<style scoped>\n",
       "    .dataframe tbody tr th:only-of-type {\n",
       "        vertical-align: middle;\n",
       "    }\n",
       "\n",
       "    .dataframe tbody tr th {\n",
       "        vertical-align: top;\n",
       "    }\n",
       "\n",
       "    .dataframe thead th {\n",
       "        text-align: right;\n",
       "    }\n",
       "</style>\n",
       "<table border=\"1\" class=\"dataframe\">\n",
       "  <thead>\n",
       "    <tr style=\"text-align: right;\">\n",
       "      <th></th>\n",
       "      <th>order_id</th>\n",
       "      <th>cantidad_gastada</th>\n",
       "    </tr>\n",
       "  </thead>\n",
       "  <tbody>\n",
       "    <tr>\n",
       "      <th>0</th>\n",
       "      <td>10981</td>\n",
       "      <td>15810.0</td>\n",
       "    </tr>\n",
       "    <tr>\n",
       "      <th>1</th>\n",
       "      <td>10865</td>\n",
       "      <td>15019.5</td>\n",
       "    </tr>\n",
       "    <tr>\n",
       "      <th>2</th>\n",
       "      <td>10417</td>\n",
       "      <td>10540.0</td>\n",
       "    </tr>\n",
       "    <tr>\n",
       "      <th>3</th>\n",
       "      <td>10889</td>\n",
       "      <td>10540.0</td>\n",
       "    </tr>\n",
       "    <tr>\n",
       "      <th>4</th>\n",
       "      <td>10897</td>\n",
       "      <td>9903.2</td>\n",
       "    </tr>\n",
       "    <tr>\n",
       "      <th>...</th>\n",
       "      <td>...</td>\n",
       "      <td>...</td>\n",
       "    </tr>\n",
       "    <tr>\n",
       "      <th>826</th>\n",
       "      <td>10898</td>\n",
       "      <td>30.0</td>\n",
       "    </tr>\n",
       "    <tr>\n",
       "      <th>827</th>\n",
       "      <td>10767</td>\n",
       "      <td>28.0</td>\n",
       "    </tr>\n",
       "    <tr>\n",
       "      <th>828</th>\n",
       "      <td>10586</td>\n",
       "      <td>23.8</td>\n",
       "    </tr>\n",
       "    <tr>\n",
       "      <th>829</th>\n",
       "      <td>10807</td>\n",
       "      <td>18.4</td>\n",
       "    </tr>\n",
       "    <tr>\n",
       "      <th>830</th>\n",
       "      <td>10782</td>\n",
       "      <td>12.5</td>\n",
       "    </tr>\n",
       "  </tbody>\n",
       "</table>\n",
       "<p>831 rows × 2 columns</p>\n",
       "</div>"
      ],
      "text/plain": [
       "     order_id  cantidad_gastada\n",
       "0       10981           15810.0\n",
       "1       10865           15019.5\n",
       "2       10417           10540.0\n",
       "3       10889           10540.0\n",
       "4       10897            9903.2\n",
       "..        ...               ...\n",
       "826     10898              30.0\n",
       "827     10767              28.0\n",
       "828     10586              23.8\n",
       "829     10807              18.4\n",
       "830     10782              12.5\n",
       "\n",
       "[831 rows x 2 columns]"
      ]
     },
     "execution_count": 8,
     "metadata": {},
     "output_type": "execute_result"
    }
   ],
   "source": [
    "dataframe"
   ]
  },
  {
   "attachments": {},
   "cell_type": "markdown",
   "metadata": {},
   "source": [
    "4.3. Extraed el números de pedidos que se hayan hecho por dia. Devuelve los resultados en una dataframe.\n"
   ]
  },
  {
   "cell_type": "code",
   "execution_count": 9,
   "metadata": {},
   "outputs": [],
   "source": [
    "mytabla = mysql.connector.connect(\n",
    "                                  user = 'root', password = 'AlumnaAdalab',\n",
    "                                  host = '127.0.0.1', database = 'northwind')\n",
    "\n",
    "sql_query = (\"\"\"SELECT COUNT(order_id), order_date\n",
    "\t            FROM orders\t\t\t\t\t\t\t\t\t\t\t\t\t\t\n",
    "\t            GROUP BY order_date;\"\"\")\n",
    "\n",
    "dataframe = pd.read_sql_query(sql_query, mytabla)"
   ]
  },
  {
   "cell_type": "code",
   "execution_count": 10,
   "metadata": {},
   "outputs": [
    {
     "data": {
      "text/html": [
       "<div>\n",
       "<style scoped>\n",
       "    .dataframe tbody tr th:only-of-type {\n",
       "        vertical-align: middle;\n",
       "    }\n",
       "\n",
       "    .dataframe tbody tr th {\n",
       "        vertical-align: top;\n",
       "    }\n",
       "\n",
       "    .dataframe thead th {\n",
       "        text-align: right;\n",
       "    }\n",
       "</style>\n",
       "<table border=\"1\" class=\"dataframe\">\n",
       "  <thead>\n",
       "    <tr style=\"text-align: right;\">\n",
       "      <th></th>\n",
       "      <th>COUNT(order_id)</th>\n",
       "      <th>order_date</th>\n",
       "    </tr>\n",
       "  </thead>\n",
       "  <tbody>\n",
       "    <tr>\n",
       "      <th>0</th>\n",
       "      <td>1</td>\n",
       "      <td>1996-07-04</td>\n",
       "    </tr>\n",
       "    <tr>\n",
       "      <th>1</th>\n",
       "      <td>1</td>\n",
       "      <td>1996-07-05</td>\n",
       "    </tr>\n",
       "    <tr>\n",
       "      <th>2</th>\n",
       "      <td>2</td>\n",
       "      <td>1996-07-08</td>\n",
       "    </tr>\n",
       "    <tr>\n",
       "      <th>3</th>\n",
       "      <td>1</td>\n",
       "      <td>1996-07-09</td>\n",
       "    </tr>\n",
       "    <tr>\n",
       "      <th>4</th>\n",
       "      <td>1</td>\n",
       "      <td>1996-07-10</td>\n",
       "    </tr>\n",
       "    <tr>\n",
       "      <th>...</th>\n",
       "      <td>...</td>\n",
       "      <td>...</td>\n",
       "    </tr>\n",
       "    <tr>\n",
       "      <th>475</th>\n",
       "      <td>4</td>\n",
       "      <td>1998-04-30</td>\n",
       "    </tr>\n",
       "    <tr>\n",
       "      <th>476</th>\n",
       "      <td>3</td>\n",
       "      <td>1998-05-01</td>\n",
       "    </tr>\n",
       "    <tr>\n",
       "      <th>477</th>\n",
       "      <td>3</td>\n",
       "      <td>1998-05-04</td>\n",
       "    </tr>\n",
       "    <tr>\n",
       "      <th>478</th>\n",
       "      <td>4</td>\n",
       "      <td>1998-05-05</td>\n",
       "    </tr>\n",
       "    <tr>\n",
       "      <th>479</th>\n",
       "      <td>4</td>\n",
       "      <td>1998-05-06</td>\n",
       "    </tr>\n",
       "  </tbody>\n",
       "</table>\n",
       "<p>480 rows × 2 columns</p>\n",
       "</div>"
      ],
      "text/plain": [
       "     COUNT(order_id) order_date\n",
       "0                  1 1996-07-04\n",
       "1                  1 1996-07-05\n",
       "2                  2 1996-07-08\n",
       "3                  1 1996-07-09\n",
       "4                  1 1996-07-10\n",
       "..               ...        ...\n",
       "475                4 1998-04-30\n",
       "476                3 1998-05-01\n",
       "477                3 1998-05-04\n",
       "478                4 1998-05-05\n",
       "479                4 1998-05-06\n",
       "\n",
       "[480 rows x 2 columns]"
      ]
     },
     "execution_count": 10,
     "metadata": {},
     "output_type": "execute_result"
    }
   ],
   "source": [
    "dataframe"
   ]
  },
  {
   "cell_type": "markdown",
   "metadata": {},
   "source": [
    "\n",
    "4.4. Extraer los pedidos hechos por \"Nancy Daviolo\". Tendréis que hacer una subquery."
   ]
  },
  {
   "cell_type": "code",
   "execution_count": 18,
   "metadata": {},
   "outputs": [
    {
     "name": "stderr",
     "output_type": "stream",
     "text": [
      "C:\\Users\\lidya\\AppData\\Local\\Temp\\ipykernel_1264\\2266683625.py:11: UserWarning: pandas only supports SQLAlchemy connectable (engine/connection) or database string URI or sqlite3 DBAPI2 connection. Other DBAPI2 objects are not tested. Please consider using SQLAlchemy.\n",
      "  df = pd.read_sql_query(sql, mytabla)\n"
     ]
    }
   ],
   "source": [
    "mytabla = mysql.connector.connect(user='root', password='AlumnaAdalab',\n",
    "                              host='127.0.0.1',\n",
    "                              database='northwind')\n",
    "\n",
    "\n",
    "sql = (\"\"\"SELECT order_id, customer_id, employee_id\n",
    "\t      FROM orders\n",
    "\t      WHERE employee_id IN \n",
    "\t\t\t\t\t(SELECT employee_id FROM employees WHERE first_name = \"Nancy\" AND last_name = \"Davolio\");\"\"\")\n",
    "\n",
    "df = pd.read_sql_query(sql, mytabla)"
   ]
  },
  {
   "cell_type": "code",
   "execution_count": 19,
   "metadata": {},
   "outputs": [
    {
     "data": {
      "text/html": [
       "<div>\n",
       "<style scoped>\n",
       "    .dataframe tbody tr th:only-of-type {\n",
       "        vertical-align: middle;\n",
       "    }\n",
       "\n",
       "    .dataframe tbody tr th {\n",
       "        vertical-align: top;\n",
       "    }\n",
       "\n",
       "    .dataframe thead th {\n",
       "        text-align: right;\n",
       "    }\n",
       "</style>\n",
       "<table border=\"1\" class=\"dataframe\">\n",
       "  <thead>\n",
       "    <tr style=\"text-align: right;\">\n",
       "      <th></th>\n",
       "      <th>order_id</th>\n",
       "      <th>customer_id</th>\n",
       "      <th>employee_id</th>\n",
       "    </tr>\n",
       "  </thead>\n",
       "  <tbody>\n",
       "    <tr>\n",
       "      <th>0</th>\n",
       "      <td>10258</td>\n",
       "      <td>ERNSH</td>\n",
       "      <td>1</td>\n",
       "    </tr>\n",
       "    <tr>\n",
       "      <th>1</th>\n",
       "      <td>10270</td>\n",
       "      <td>WARTH</td>\n",
       "      <td>1</td>\n",
       "    </tr>\n",
       "    <tr>\n",
       "      <th>2</th>\n",
       "      <td>10275</td>\n",
       "      <td>MAGAA</td>\n",
       "      <td>1</td>\n",
       "    </tr>\n",
       "    <tr>\n",
       "      <th>3</th>\n",
       "      <td>10285</td>\n",
       "      <td>QUICK</td>\n",
       "      <td>1</td>\n",
       "    </tr>\n",
       "    <tr>\n",
       "      <th>4</th>\n",
       "      <td>10292</td>\n",
       "      <td>TRADH</td>\n",
       "      <td>1</td>\n",
       "    </tr>\n",
       "    <tr>\n",
       "      <th>...</th>\n",
       "      <td>...</td>\n",
       "      <td>...</td>\n",
       "      <td>...</td>\n",
       "    </tr>\n",
       "    <tr>\n",
       "      <th>118</th>\n",
       "      <td>11064</td>\n",
       "      <td>SAVEA</td>\n",
       "      <td>1</td>\n",
       "    </tr>\n",
       "    <tr>\n",
       "      <th>119</th>\n",
       "      <td>11067</td>\n",
       "      <td>DRACD</td>\n",
       "      <td>1</td>\n",
       "    </tr>\n",
       "    <tr>\n",
       "      <th>120</th>\n",
       "      <td>11069</td>\n",
       "      <td>TORTU</td>\n",
       "      <td>1</td>\n",
       "    </tr>\n",
       "    <tr>\n",
       "      <th>121</th>\n",
       "      <td>11071</td>\n",
       "      <td>LILAS</td>\n",
       "      <td>1</td>\n",
       "    </tr>\n",
       "    <tr>\n",
       "      <th>122</th>\n",
       "      <td>11077</td>\n",
       "      <td>RATTC</td>\n",
       "      <td>1</td>\n",
       "    </tr>\n",
       "  </tbody>\n",
       "</table>\n",
       "<p>123 rows × 3 columns</p>\n",
       "</div>"
      ],
      "text/plain": [
       "     order_id customer_id  employee_id\n",
       "0       10258       ERNSH            1\n",
       "1       10270       WARTH            1\n",
       "2       10275       MAGAA            1\n",
       "3       10285       QUICK            1\n",
       "4       10292       TRADH            1\n",
       "..        ...         ...          ...\n",
       "118     11064       SAVEA            1\n",
       "119     11067       DRACD            1\n",
       "120     11069       TORTU            1\n",
       "121     11071       LILAS            1\n",
       "122     11077       RATTC            1\n",
       "\n",
       "[123 rows x 3 columns]"
      ]
     },
     "execution_count": 19,
     "metadata": {},
     "output_type": "execute_result"
    }
   ],
   "source": [
    "df"
   ]
  },
  {
   "cell_type": "markdown",
   "metadata": {},
   "source": [
    "5. Para finalizar el ejercicio, desconectad la conexión con el servidor.\n"
   ]
  },
  {
   "cell_type": "code",
   "execution_count": 20,
   "metadata": {},
   "outputs": [],
   "source": [
    "mytabla.close()"
   ]
  }
 ],
 "metadata": {
  "kernelspec": {
   "display_name": "base",
   "language": "python",
   "name": "python3"
  },
  "language_info": {
   "codemirror_mode": {
    "name": "ipython",
    "version": 3
   },
   "file_extension": ".py",
   "mimetype": "text/x-python",
   "name": "python",
   "nbconvert_exporter": "python",
   "pygments_lexer": "ipython3",
   "version": "3.9.7"
  },
  "orig_nbformat": 4,
  "vscode": {
   "interpreter": {
    "hash": "9e93b45245d013bdd53ec1af459c1fa9a1f27ba233da755697f4231c0d29b83f"
   }
  }
 },
 "nbformat": 4,
 "nbformat_minor": 2
}
