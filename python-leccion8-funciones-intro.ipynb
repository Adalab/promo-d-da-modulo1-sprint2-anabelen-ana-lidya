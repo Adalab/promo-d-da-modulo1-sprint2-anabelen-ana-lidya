{
 "cells": [
  {
   "attachments": {},
   "cell_type": "markdown",
   "metadata": {},
   "source": [
    "# **Ejercicios de pair programming Módulo 1**\n",
    "## **Lección 8**\n",
    "### **Funciones: Intro**\n",
    "\n",
    "---"
   ]
  },
  {
   "attachments": {},
   "cell_type": "markdown",
   "metadata": {},
   "source": [
    " -1 Cread una función que reciba 2 números enteros en forma de string como entrada, y dé como resultado la suma (también en forma de string)\n",
    "    Condiciones:\n",
    "     - Si los dos parámetros que recibe la función son strings vacíos la función nos debe devolver \"0\"\n",
    "     - Si el primer parámetro es un string vacío, la función nos devuelve el valor del segundo parámetro y viceversa.\n",
    "    \n",
    "    Probad la función para las siguientes combinaciones de \"números\"\n",
    "\n",
    "     ```python\n",
    "        Parámetros que recibe la función: \"4\",  \"5\" --> Output esperado: \"9\"\n",
    "        Parámetros que recibe la función: \"34\", \"5\" --> Output esperado: \"39\"\n",
    "        Parámetros que recibe la función: \"\", \"\" --> Output esperado: \"0\"\n",
    "        Parámetros que recibe la función: \"2\", \"\" --> Output esperado: \"2\"\n",
    "        Parámetros que recibe la función: \"-5\", \"3\" --> Output esperado: \"-2\"\n",
    "     ```\n"
   ]
  },
  {
   "cell_type": "code",
   "execution_count": 65,
   "metadata": {},
   "outputs": [],
   "source": [
    "numero1 = input(\"introduce tu primer numero\")\n",
    "numero2 = input(\"introduce tu segundo numero\")"
   ]
  },
  {
   "cell_type": "code",
   "execution_count": 66,
   "metadata": {},
   "outputs": [],
   "source": [
    "def sumando (numero1, numero2):\n",
    "    if numero1 == \" \":\n",
    "        numero1 = \"0\"\n",
    "    if numero2 == \" \":\n",
    "        numero2 = \"0\"\n",
    "\n",
    "    numero1_int = int(numero1)\n",
    "    numero2_int = int(numero2)\n",
    "    suma_total = numero1_int + numero2_int\n",
    "    return str(suma_total)\n",
    "\n",
    "\n"
   ]
  },
  {
   "cell_type": "code",
   "execution_count": 67,
   "metadata": {},
   "outputs": [
    {
     "data": {
      "text/plain": [
       "'39'"
      ]
     },
     "execution_count": 67,
     "metadata": {},
     "output_type": "execute_result"
    }
   ],
   "source": [
    "sumando(numero1, numero2)"
   ]
  },
  {
   "attachments": {},
   "cell_type": "markdown",
   "metadata": {},
   "source": [
    " -2 El objetivo es comparar cada par de enteros de 2 listas, y devolver una nueva lista con el número mayor de la comapración..\n",
    "        \n",
    "      Probad la función para las siguientes listas: \n",
    "        \n",
    "      ```python\n",
    "        arr1 = [13, 64, 15, 17, 88]\n",
    "        arr2 = [23, 14, 53, 17, 80]\n",
    "        resultado = [23, 64, 53, 17, 88]\n",
    "      ```\n",
    "\n",
    "    💡 Pista 💡 En Python existe el método zip.\n"
   ]
  },
  {
   "cell_type": "code",
   "execution_count": 75,
   "metadata": {},
   "outputs": [],
   "source": [
    "arr1 = [13, 64, 15, 17, 88]\n",
    "arr2 = [23, 14, 53, 17, 80]"
   ]
  },
  {
   "cell_type": "code",
   "execution_count": 80,
   "metadata": {},
   "outputs": [],
   "source": [
    "def ganador(arr1, arr2):\n",
    "    resultado = []\n",
    "    for tupla in zip(arr1, arr2):\n",
    "        if tupla[0] >= tupla[1]:\n",
    "            resultado.append(tupla[0])\n",
    "        \n",
    "        elif tupla[0] < tupla[1]:\n",
    "            resultado.append(tupla[1])\n",
    "    return resultado"
   ]
  },
  {
   "cell_type": "code",
   "execution_count": 81,
   "metadata": {},
   "outputs": [
    {
     "data": {
      "text/plain": [
       "[23, 64, 53, 17, 88]"
      ]
     },
     "execution_count": 81,
     "metadata": {},
     "output_type": "execute_result"
    }
   ],
   "source": [
    "ganador(arr1, arr2)"
   ]
  },
  {
   "attachments": {},
   "cell_type": "markdown",
   "metadata": {},
   "source": [
    "\n",
    "\n",
    " 3- El objetivo de este ejercicio es convertir un string en un nuevo string en el que cada carácter del nuevo string es \"(\" si ese carácter aparece sólo una vez en el string original, o \")\" si ese carácter aparece más de una vez en el string. Nuestro código no tiene que ser case sensitive, es decir, si hay una letra en mayúscula y en minúscula cuenta como dos apariciones.\n",
    "        \n",
    "    Probad la función para los siguientes strings:\n",
    "\n",
    "    ```python\n",
    "        \"din\"      =>  \"(((\"\n",
    "        \"recede\"   =>  \"()()()\"\n",
    "        \"Success\"  =>  \")())())\"\n",
    "        \"(( @\"     =>  \"))((\" \n",
    "        \"Ocvl@GamFLAFkixkS\" => \"((()(()()))))(()(\"\n",
    "    ```"
   ]
  },
  {
   "cell_type": "code",
   "execution_count": 5,
   "metadata": {},
   "outputs": [],
   "source": [
    "def parentesis(string):\n",
    "    resultado = \"\"\n",
    "    string = string.lower()\n",
    "    for i in string:\n",
    "        if string.count(i) > 1:\n",
    "            resultado += \")\"\n",
    "        else:\n",
    "            resultado += \"(\"\n",
    "    return resultado"
   ]
  },
  {
   "cell_type": "code",
   "execution_count": 8,
   "metadata": {},
   "outputs": [
    {
     "data": {
      "text/plain": [
       "'((()(()()))))(()('"
      ]
     },
     "execution_count": 8,
     "metadata": {},
     "output_type": "execute_result"
    }
   ],
   "source": [
    "parentesis(\"Ocvl@GamFLAFkixkS\")"
   ]
  },
  {
   "cell_type": "code",
   "execution_count": 2,
   "metadata": {},
   "outputs": [
    {
     "data": {
      "text/plain": [
       "'((('"
      ]
     },
     "execution_count": 2,
     "metadata": {},
     "output_type": "execute_result"
    }
   ],
   "source": [
    "parentesis(\"din\")"
   ]
  },
  {
   "cell_type": "code",
   "execution_count": 3,
   "metadata": {},
   "outputs": [
    {
     "data": {
      "text/plain": [
       "'()()()'"
      ]
     },
     "execution_count": 3,
     "metadata": {},
     "output_type": "execute_result"
    }
   ],
   "source": [
    "parentesis(\"recede\")"
   ]
  },
  {
   "cell_type": "code",
   "execution_count": 6,
   "metadata": {},
   "outputs": [
    {
     "data": {
      "text/plain": [
       "')())())'"
      ]
     },
     "execution_count": 6,
     "metadata": {},
     "output_type": "execute_result"
    }
   ],
   "source": [
    "parentesis(\"Success\")"
   ]
  },
  {
   "cell_type": "code",
   "execution_count": 7,
   "metadata": {},
   "outputs": [
    {
     "data": {
      "text/plain": [
       "'))(('"
      ]
     },
     "execution_count": 7,
     "metadata": {},
     "output_type": "execute_result"
    }
   ],
   "source": [
    "parentesis(\"(( @\")"
   ]
  },
  {
   "attachments": {},
   "cell_type": "markdown",
   "metadata": {},
   "source": [
    "- BONUS. A Pete le gusta hacer pasteles. Tiene algunas recetas e ingredientes. Desgraciadamente, no se le dan bien las matemáticas. ¿Puedes ayudarle a averiguar cuántas tartas puede hacer teniendo en cuenta sus recetas?\n",
    "Escribid una función,  que tome la receta (diccionario) y los ingredientes disponibles (también un diccionario) y devuelva el número máximo de pasteles que Pete puede hornear (entero). Para simplificar, no hay unidades para las cantidades (por ejemplo, 1 libra de harina o 200 g de azúcar son simplemente 1 o 200). Los ingredientes que no están presentes en los diccionarios, pueden ser considerados como 0.\n",
    "\n",
    "\n",
    "    Probad con los siguientes diccionarios: \n",
    "\n",
    "    ```python\n",
    "    RECETA {'flour': 500, 'sugar': 200, 'eggs': 1}, \n",
    "    INGREDIENTES {'flour': 1200, 'sugar': 1200, 'eggs': 5, 'milk': 200}\n",
    "\n",
    "    RESULTADO: 2 \n",
    "    ----------\n",
    "\n",
    "    RECETA {'apples': 3, 'flour': 300, 'sugar': 150, 'milk': 100, 'oil': 100}\n",
    "    INGREDIENTES {'sugar': 500, 'flour': 2000, 'milk': 2000}\n",
    "\n",
    "    RESULTADO 0\n",
    "    ``` \n",
    "\n",
    "    **Pista**: Nuestra función recibirá dos parámetros. \n"
   ]
  },
  {
   "cell_type": "code",
   "execution_count": null,
   "metadata": {},
   "outputs": [],
   "source": []
  },
  {
   "attachments": {},
   "cell_type": "markdown",
   "metadata": {},
   "source": [
    " - BONUS. Escribid una función que va a ser una calculadora. La lista recibirá dos parámetros, una lista de números y un string con la operación que queremos hacer (puede ser \"*\", \"+\")\n",
    "    \n",
    "    ```python \n",
    "        Probad con los siguientes inputs\n",
    "\n",
    "        lista1 = [11, 6, 98, 1, 2] , \"*\"\n",
    "        RESULTADO 12936\n",
    "\n",
    "        -----------------------------------\n",
    "        lista2 = [23,34, 56, 11, 90] , \"+\"\n",
    "        RESULTADO 214\n",
    "\n",
    "        -----------------------------------\n",
    "        lista3 = [23, 4,109 , 94, 77] , \"-\"\n",
    "        RESULTADO 'Lo siento, necesito que me pases una operación valida.'\n",
    "    ```"
   ]
  },
  {
   "cell_type": "code",
   "execution_count": null,
   "metadata": {},
   "outputs": [],
   "source": []
  }
 ],
 "metadata": {
  "kernelspec": {
   "display_name": "Python 3",
   "language": "python",
   "name": "python3"
  },
  "language_info": {
   "codemirror_mode": {
    "name": "ipython",
    "version": 3
   },
   "file_extension": ".py",
   "mimetype": "text/x-python",
   "name": "python",
   "nbconvert_exporter": "python",
   "pygments_lexer": "ipython3",
   "version": "3.10.9"
  },
  "orig_nbformat": 4
 },
 "nbformat": 4,
 "nbformat_minor": 2
}
