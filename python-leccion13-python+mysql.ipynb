{
 "cells": [
  {
   "attachments": {},
   "cell_type": "markdown",
   "metadata": {},
   "source": [
    "# Pair programming\n",
    "Es el momento de dejar de usar la interface de Workbench y empezar a usar SQL desde Python!\n"
   ]
  },
  {
   "attachments": {},
   "cell_type": "markdown",
   "metadata": {},
   "source": [
    "\n",
    "1. Antes de empezar a trabajar con la BBDD de Northwind, conozcamos un poco las BBDD que tenemos en nuestro servidor. ¿Qué BBDD tenemos en nuestro servidor?\n"
   ]
  },
  {
   "attachments": {},
   "cell_type": "markdown",
   "metadata": {},
   "source": [
    "2. Empezemos a explorar la BBDD de Northwind. ¿Qué tablas componen la BBDD? Recuerda que primero nos tendremos que conectar con la BBDD sobre la que queremos trabajar. Guarda el resultado de los nombres de la tablas en una lista.\n"
   ]
  },
  {
   "attachments": {},
   "cell_type": "markdown",
   "metadata": {},
   "source": [
    "3. ¿Qué columnas tiene cada una de las tablas? Para esto tendréis que hacer un for loop para que nos saque el resultado de todas las columnas.\n"
   ]
  },
  {
   "attachments": {},
   "cell_type": "markdown",
   "metadata": {},
   "source": [
    "4. Hagamos unas queries facilitas:\n",
    "    1.  Extraed el primer pedido donde se ha gastado más. Devolved el id del pedido y la cantidad gastada.\n",
    "    2.  Devuelve la misma query que en el anterior ejercicio, pero en este caso devuelve todos los resultados.\n",
    "    3. Extraed el números de pedidos que se hayan hecho por dia. Devuelve los resultados en una dataframe.\n",
    "    4. Extraer los pedidos hechos por \"Nancy Daviolo\". Tendréis que hacer una subquery.\n"
   ]
  },
  {
   "cell_type": "markdown",
   "metadata": {},
   "source": [
    "5. Para finalizar el ejercicio, desconectad la conexión con el servidor.\n"
   ]
  },
  {
   "cell_type": "code",
   "execution_count": null,
   "metadata": {},
   "outputs": [],
   "source": []
  }
 ],
 "metadata": {
  "language_info": {
   "name": "python"
  },
  "orig_nbformat": 4
 },
 "nbformat": 4,
 "nbformat_minor": 2
}
